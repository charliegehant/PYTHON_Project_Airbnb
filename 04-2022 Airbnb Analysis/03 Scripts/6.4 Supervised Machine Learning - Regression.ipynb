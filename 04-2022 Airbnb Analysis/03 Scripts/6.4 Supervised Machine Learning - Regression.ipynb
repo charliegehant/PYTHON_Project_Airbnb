{
 "cells": [
  {
   "cell_type": "markdown",
   "id": "da768d2c",
   "metadata": {},
   "source": [
    "# TASK 6.4 - Supervised Machine Learning: Regression"
   ]
  },
  {
   "cell_type": "markdown",
   "id": "db17590f",
   "metadata": {},
   "source": [
    "#### Table of Content\n",
    "\n",
    "1. Importing Libraries & Options\n",
    "2. Importing Dataframe\n",
    "3. Checking the Data\n",
    "4. Hypothesis & Scatterplot (A)\n",
    "5. Regression Analysis (A)\n",
    "6. Performance Improvement (A)\n",
    "7. Hypothesis & Scatterplot (B)\n",
    "8. Regression Analysis (B)\n",
    "9. Performance Improvement (B)"
   ]
  },
  {
   "cell_type": "markdown",
   "id": "9871e4fc",
   "metadata": {},
   "source": [
    "# 1. Importing Libraries & Options\n"
   ]
  },
  {
   "cell_type": "code",
   "execution_count": 1,
   "id": "8a22236c",
   "metadata": {},
   "outputs": [],
   "source": [
    "import pandas as pd\n",
    "import numpy as np\n",
    "import seaborn as sns\n",
    "import matplotlib\n",
    "import matplotlib.pyplot as plt\n",
    "import os\n",
    "import sklearn\n",
    "from sklearn.model_selection import train_test_split \n",
    "from sklearn.linear_model import LinearRegression\n",
    "from sklearn.metrics import mean_squared_error, r2_score"
   ]
  },
  {
   "cell_type": "code",
   "execution_count": 2,
   "id": "d1dda73f",
   "metadata": {},
   "outputs": [],
   "source": [
    "# Prompting matplotlib visuals to appear in the notebook \n",
    "\n",
    "%matplotlib inline"
   ]
  },
  {
   "cell_type": "code",
   "execution_count": 3,
   "id": "6540f693",
   "metadata": {},
   "outputs": [],
   "source": [
    "# Removing the max column cap\n",
    "\n",
    "pd.options.display.max_columns = None"
   ]
  },
  {
   "cell_type": "markdown",
   "id": "9494ba99",
   "metadata": {},
   "source": [
    "# 2. Importing Dataframe"
   ]
  },
  {
   "cell_type": "code",
   "execution_count": 4,
   "id": "5656fc1a",
   "metadata": {},
   "outputs": [],
   "source": [
    "# Creating a path for main dataframe\n",
    "\n",
    "path = '/Users/charliegehant/Dropbox/4. Career Foundry/Achievement 6 - Advanced Analytics & Dashboard Design/04-2022 Airbnb Analysis/02 Data'"
   ]
  },
  {
   "cell_type": "code",
   "execution_count": 5,
   "id": "8c98ffcb",
   "metadata": {},
   "outputs": [],
   "source": [
    "# Importing dataframe\n",
    "\n",
    "df = pd.read_csv(os.path.join(path, 'Prepared Data', 'listings_clean.csv'), index_col = False)"
   ]
  },
  {
   "cell_type": "markdown",
   "id": "f102c583",
   "metadata": {},
   "source": [
    "# 3. Checking the Data"
   ]
  },
  {
   "cell_type": "code",
   "execution_count": 6,
   "id": "80e2c07e",
   "metadata": {},
   "outputs": [
    {
     "data": {
      "text/html": [
       "<div>\n",
       "<style scoped>\n",
       "    .dataframe tbody tr th:only-of-type {\n",
       "        vertical-align: middle;\n",
       "    }\n",
       "\n",
       "    .dataframe tbody tr th {\n",
       "        vertical-align: top;\n",
       "    }\n",
       "\n",
       "    .dataframe thead th {\n",
       "        text-align: right;\n",
       "    }\n",
       "</style>\n",
       "<table border=\"1\" class=\"dataframe\">\n",
       "  <thead>\n",
       "    <tr style=\"text-align: right;\">\n",
       "      <th></th>\n",
       "      <th>id</th>\n",
       "      <th>host_id</th>\n",
       "      <th>host_since</th>\n",
       "      <th>host_response_time</th>\n",
       "      <th>host_resp_rate_pct</th>\n",
       "      <th>host_accept_rate_pct</th>\n",
       "      <th>host_is_superhost</th>\n",
       "      <th>host_listings_count</th>\n",
       "      <th>host_has_profile_pic</th>\n",
       "      <th>host_identity_verified</th>\n",
       "      <th>neighbourhood_cleansed</th>\n",
       "      <th>latitude</th>\n",
       "      <th>longitude</th>\n",
       "      <th>property_type</th>\n",
       "      <th>room_type</th>\n",
       "      <th>accommodates</th>\n",
       "      <th>bathrooms_text</th>\n",
       "      <th>bedrooms</th>\n",
       "      <th>beds</th>\n",
       "      <th>price_usd</th>\n",
       "      <th>minimum_nights</th>\n",
       "      <th>maximum_nights</th>\n",
       "      <th>has_availability</th>\n",
       "      <th>availability_30</th>\n",
       "      <th>availability_60</th>\n",
       "      <th>availability_90</th>\n",
       "      <th>availability_365</th>\n",
       "      <th>number_of_reviews</th>\n",
       "      <th>number_of_reviews_ltm</th>\n",
       "      <th>number_of_reviews_l30d</th>\n",
       "      <th>first_review</th>\n",
       "      <th>last_review</th>\n",
       "      <th>review_scores_rating</th>\n",
       "      <th>review_scores_accuracy</th>\n",
       "      <th>review_scores_cleanliness</th>\n",
       "      <th>review_scores_checkin</th>\n",
       "      <th>review_scores_communication</th>\n",
       "      <th>review_scores_location</th>\n",
       "      <th>review_scores_value</th>\n",
       "      <th>instant_bookable</th>\n",
       "      <th>calculated_host_listings_count</th>\n",
       "      <th>calculated_host_listings_count_entire_homes</th>\n",
       "      <th>calculated_host_listings_count_private_rooms</th>\n",
       "      <th>calculated_host_listings_count_shared_rooms</th>\n",
       "      <th>reviews_per_month</th>\n",
       "    </tr>\n",
       "  </thead>\n",
       "  <tbody>\n",
       "    <tr>\n",
       "      <th>0</th>\n",
       "      <td>13913</td>\n",
       "      <td>54730</td>\n",
       "      <td>2009-11-16</td>\n",
       "      <td>within a few hours</td>\n",
       "      <td>100</td>\n",
       "      <td>85</td>\n",
       "      <td>f</td>\n",
       "      <td>3.0</td>\n",
       "      <td>t</td>\n",
       "      <td>t</td>\n",
       "      <td>Islington</td>\n",
       "      <td>51.56861</td>\n",
       "      <td>-0.11270</td>\n",
       "      <td>Private room in rental unit</td>\n",
       "      <td>Private room</td>\n",
       "      <td>2</td>\n",
       "      <td>1 shared bath</td>\n",
       "      <td>1.0</td>\n",
       "      <td>1.76</td>\n",
       "      <td>65.0</td>\n",
       "      <td>1</td>\n",
       "      <td>29</td>\n",
       "      <td>t</td>\n",
       "      <td>26</td>\n",
       "      <td>56</td>\n",
       "      <td>86</td>\n",
       "      <td>361</td>\n",
       "      <td>22</td>\n",
       "      <td>1</td>\n",
       "      <td>1</td>\n",
       "      <td>2010-08-18</td>\n",
       "      <td>2021-11-21</td>\n",
       "      <td>4.86</td>\n",
       "      <td>4.80</td>\n",
       "      <td>4.85</td>\n",
       "      <td>4.80</td>\n",
       "      <td>4.90</td>\n",
       "      <td>4.65</td>\n",
       "      <td>4.75</td>\n",
       "      <td>f</td>\n",
       "      <td>2</td>\n",
       "      <td>1</td>\n",
       "      <td>1</td>\n",
       "      <td>0</td>\n",
       "      <td>0.16</td>\n",
       "    </tr>\n",
       "    <tr>\n",
       "      <th>1</th>\n",
       "      <td>15400</td>\n",
       "      <td>60302</td>\n",
       "      <td>2009-12-05</td>\n",
       "      <td>within a day</td>\n",
       "      <td>67</td>\n",
       "      <td>50</td>\n",
       "      <td>f</td>\n",
       "      <td>1.0</td>\n",
       "      <td>t</td>\n",
       "      <td>t</td>\n",
       "      <td>Kensington and Chelsea</td>\n",
       "      <td>51.48780</td>\n",
       "      <td>-0.16813</td>\n",
       "      <td>Entire rental unit</td>\n",
       "      <td>Entire home/apt</td>\n",
       "      <td>2</td>\n",
       "      <td>1 bath</td>\n",
       "      <td>1.0</td>\n",
       "      <td>1.00</td>\n",
       "      <td>75.0</td>\n",
       "      <td>3</td>\n",
       "      <td>50</td>\n",
       "      <td>t</td>\n",
       "      <td>0</td>\n",
       "      <td>0</td>\n",
       "      <td>0</td>\n",
       "      <td>4</td>\n",
       "      <td>89</td>\n",
       "      <td>0</td>\n",
       "      <td>0</td>\n",
       "      <td>2009-12-21</td>\n",
       "      <td>2020-03-16</td>\n",
       "      <td>4.79</td>\n",
       "      <td>4.84</td>\n",
       "      <td>4.88</td>\n",
       "      <td>4.87</td>\n",
       "      <td>4.82</td>\n",
       "      <td>4.93</td>\n",
       "      <td>4.73</td>\n",
       "      <td>f</td>\n",
       "      <td>1</td>\n",
       "      <td>1</td>\n",
       "      <td>0</td>\n",
       "      <td>0</td>\n",
       "      <td>0.61</td>\n",
       "    </tr>\n",
       "    <tr>\n",
       "      <th>2</th>\n",
       "      <td>17402</td>\n",
       "      <td>67564</td>\n",
       "      <td>2010-01-04</td>\n",
       "      <td>within an hour</td>\n",
       "      <td>80</td>\n",
       "      <td>70</td>\n",
       "      <td>f</td>\n",
       "      <td>18.0</td>\n",
       "      <td>t</td>\n",
       "      <td>t</td>\n",
       "      <td>Westminster</td>\n",
       "      <td>51.52195</td>\n",
       "      <td>-0.14094</td>\n",
       "      <td>Entire rental unit</td>\n",
       "      <td>Entire home/apt</td>\n",
       "      <td>6</td>\n",
       "      <td>2 baths</td>\n",
       "      <td>3.0</td>\n",
       "      <td>3.00</td>\n",
       "      <td>265.0</td>\n",
       "      <td>4</td>\n",
       "      <td>365</td>\n",
       "      <td>t</td>\n",
       "      <td>4</td>\n",
       "      <td>34</td>\n",
       "      <td>60</td>\n",
       "      <td>295</td>\n",
       "      <td>43</td>\n",
       "      <td>1</td>\n",
       "      <td>0</td>\n",
       "      <td>2011-03-21</td>\n",
       "      <td>2021-06-28</td>\n",
       "      <td>4.69</td>\n",
       "      <td>4.80</td>\n",
       "      <td>4.68</td>\n",
       "      <td>4.66</td>\n",
       "      <td>4.66</td>\n",
       "      <td>4.85</td>\n",
       "      <td>4.59</td>\n",
       "      <td>f</td>\n",
       "      <td>1</td>\n",
       "      <td>1</td>\n",
       "      <td>0</td>\n",
       "      <td>0</td>\n",
       "      <td>0.33</td>\n",
       "    </tr>\n",
       "    <tr>\n",
       "      <th>3</th>\n",
       "      <td>17506</td>\n",
       "      <td>67915</td>\n",
       "      <td>2010-01-05</td>\n",
       "      <td>Unknown</td>\n",
       "      <td>89</td>\n",
       "      <td>75</td>\n",
       "      <td>f</td>\n",
       "      <td>3.0</td>\n",
       "      <td>t</td>\n",
       "      <td>t</td>\n",
       "      <td>Hammersmith and Fulham</td>\n",
       "      <td>51.47935</td>\n",
       "      <td>-0.19743</td>\n",
       "      <td>Private room in townhouse</td>\n",
       "      <td>Private room</td>\n",
       "      <td>2</td>\n",
       "      <td>1 private bath</td>\n",
       "      <td>1.0</td>\n",
       "      <td>1.00</td>\n",
       "      <td>150.0</td>\n",
       "      <td>3</td>\n",
       "      <td>21</td>\n",
       "      <td>t</td>\n",
       "      <td>29</td>\n",
       "      <td>59</td>\n",
       "      <td>89</td>\n",
       "      <td>364</td>\n",
       "      <td>0</td>\n",
       "      <td>0</td>\n",
       "      <td>0</td>\n",
       "      <td>1900-01-01</td>\n",
       "      <td>1900-01-01</td>\n",
       "      <td>4.54</td>\n",
       "      <td>4.73</td>\n",
       "      <td>4.62</td>\n",
       "      <td>4.79</td>\n",
       "      <td>4.80</td>\n",
       "      <td>4.75</td>\n",
       "      <td>4.64</td>\n",
       "      <td>f</td>\n",
       "      <td>2</td>\n",
       "      <td>0</td>\n",
       "      <td>2</td>\n",
       "      <td>0</td>\n",
       "      <td>4.64</td>\n",
       "    </tr>\n",
       "    <tr>\n",
       "      <th>4</th>\n",
       "      <td>25123</td>\n",
       "      <td>103583</td>\n",
       "      <td>2010-04-05</td>\n",
       "      <td>Unknown</td>\n",
       "      <td>89</td>\n",
       "      <td>75</td>\n",
       "      <td>f</td>\n",
       "      <td>3.0</td>\n",
       "      <td>t</td>\n",
       "      <td>t</td>\n",
       "      <td>Barnet</td>\n",
       "      <td>51.57438</td>\n",
       "      <td>-0.21081</td>\n",
       "      <td>Private room in residential home</td>\n",
       "      <td>Private room</td>\n",
       "      <td>2</td>\n",
       "      <td>1.5 shared baths</td>\n",
       "      <td>1.0</td>\n",
       "      <td>1.76</td>\n",
       "      <td>29.0</td>\n",
       "      <td>10</td>\n",
       "      <td>1120</td>\n",
       "      <td>t</td>\n",
       "      <td>0</td>\n",
       "      <td>0</td>\n",
       "      <td>0</td>\n",
       "      <td>0</td>\n",
       "      <td>129</td>\n",
       "      <td>0</td>\n",
       "      <td>0</td>\n",
       "      <td>2010-04-14</td>\n",
       "      <td>2020-03-15</td>\n",
       "      <td>4.78</td>\n",
       "      <td>4.70</td>\n",
       "      <td>4.94</td>\n",
       "      <td>4.91</td>\n",
       "      <td>4.89</td>\n",
       "      <td>4.45</td>\n",
       "      <td>4.74</td>\n",
       "      <td>t</td>\n",
       "      <td>3</td>\n",
       "      <td>0</td>\n",
       "      <td>3</td>\n",
       "      <td>0</td>\n",
       "      <td>0.91</td>\n",
       "    </tr>\n",
       "  </tbody>\n",
       "</table>\n",
       "</div>"
      ],
      "text/plain": [
       "      id  host_id  host_since  host_response_time  host_resp_rate_pct  \\\n",
       "0  13913    54730  2009-11-16  within a few hours                 100   \n",
       "1  15400    60302  2009-12-05        within a day                  67   \n",
       "2  17402    67564  2010-01-04      within an hour                  80   \n",
       "3  17506    67915  2010-01-05             Unknown                  89   \n",
       "4  25123   103583  2010-04-05             Unknown                  89   \n",
       "\n",
       "   host_accept_rate_pct host_is_superhost  host_listings_count  \\\n",
       "0                    85                 f                  3.0   \n",
       "1                    50                 f                  1.0   \n",
       "2                    70                 f                 18.0   \n",
       "3                    75                 f                  3.0   \n",
       "4                    75                 f                  3.0   \n",
       "\n",
       "  host_has_profile_pic host_identity_verified  neighbourhood_cleansed  \\\n",
       "0                    t                      t               Islington   \n",
       "1                    t                      t  Kensington and Chelsea   \n",
       "2                    t                      t             Westminster   \n",
       "3                    t                      t  Hammersmith and Fulham   \n",
       "4                    t                      t                  Barnet   \n",
       "\n",
       "   latitude  longitude                     property_type        room_type  \\\n",
       "0  51.56861   -0.11270       Private room in rental unit     Private room   \n",
       "1  51.48780   -0.16813                Entire rental unit  Entire home/apt   \n",
       "2  51.52195   -0.14094                Entire rental unit  Entire home/apt   \n",
       "3  51.47935   -0.19743         Private room in townhouse     Private room   \n",
       "4  51.57438   -0.21081  Private room in residential home     Private room   \n",
       "\n",
       "   accommodates    bathrooms_text  bedrooms  beds  price_usd  minimum_nights  \\\n",
       "0             2     1 shared bath       1.0  1.76       65.0               1   \n",
       "1             2            1 bath       1.0  1.00       75.0               3   \n",
       "2             6           2 baths       3.0  3.00      265.0               4   \n",
       "3             2    1 private bath       1.0  1.00      150.0               3   \n",
       "4             2  1.5 shared baths       1.0  1.76       29.0              10   \n",
       "\n",
       "   maximum_nights has_availability  availability_30  availability_60  \\\n",
       "0              29                t               26               56   \n",
       "1              50                t                0                0   \n",
       "2             365                t                4               34   \n",
       "3              21                t               29               59   \n",
       "4            1120                t                0                0   \n",
       "\n",
       "   availability_90  availability_365  number_of_reviews  \\\n",
       "0               86               361                 22   \n",
       "1                0                 4                 89   \n",
       "2               60               295                 43   \n",
       "3               89               364                  0   \n",
       "4                0                 0                129   \n",
       "\n",
       "   number_of_reviews_ltm  number_of_reviews_l30d first_review last_review  \\\n",
       "0                      1                       1   2010-08-18  2021-11-21   \n",
       "1                      0                       0   2009-12-21  2020-03-16   \n",
       "2                      1                       0   2011-03-21  2021-06-28   \n",
       "3                      0                       0   1900-01-01  1900-01-01   \n",
       "4                      0                       0   2010-04-14  2020-03-15   \n",
       "\n",
       "   review_scores_rating  review_scores_accuracy  review_scores_cleanliness  \\\n",
       "0                  4.86                    4.80                       4.85   \n",
       "1                  4.79                    4.84                       4.88   \n",
       "2                  4.69                    4.80                       4.68   \n",
       "3                  4.54                    4.73                       4.62   \n",
       "4                  4.78                    4.70                       4.94   \n",
       "\n",
       "   review_scores_checkin  review_scores_communication  review_scores_location  \\\n",
       "0                   4.80                         4.90                    4.65   \n",
       "1                   4.87                         4.82                    4.93   \n",
       "2                   4.66                         4.66                    4.85   \n",
       "3                   4.79                         4.80                    4.75   \n",
       "4                   4.91                         4.89                    4.45   \n",
       "\n",
       "   review_scores_value instant_bookable  calculated_host_listings_count  \\\n",
       "0                 4.75                f                               2   \n",
       "1                 4.73                f                               1   \n",
       "2                 4.59                f                               1   \n",
       "3                 4.64                f                               2   \n",
       "4                 4.74                t                               3   \n",
       "\n",
       "   calculated_host_listings_count_entire_homes  \\\n",
       "0                                            1   \n",
       "1                                            1   \n",
       "2                                            1   \n",
       "3                                            0   \n",
       "4                                            0   \n",
       "\n",
       "   calculated_host_listings_count_private_rooms  \\\n",
       "0                                             1   \n",
       "1                                             0   \n",
       "2                                             0   \n",
       "3                                             2   \n",
       "4                                             3   \n",
       "\n",
       "   calculated_host_listings_count_shared_rooms  reviews_per_month  \n",
       "0                                            0               0.16  \n",
       "1                                            0               0.61  \n",
       "2                                            0               0.33  \n",
       "3                                            0               4.64  \n",
       "4                                            0               0.91  "
      ]
     },
     "execution_count": 6,
     "metadata": {},
     "output_type": "execute_result"
    }
   ],
   "source": [
    "df.head()"
   ]
  },
  {
   "cell_type": "code",
   "execution_count": 7,
   "id": "d29ac2cb",
   "metadata": {},
   "outputs": [
    {
     "data": {
      "text/plain": [
       "(66582, 45)"
      ]
     },
     "execution_count": 7,
     "metadata": {},
     "output_type": "execute_result"
    }
   ],
   "source": [
    "df.shape"
   ]
  },
  {
   "cell_type": "markdown",
   "id": "6974392f",
   "metadata": {},
   "source": [
    "##### • PLEASE NOTE: From previous cleaning steps, I know the dataframe has no NaN values and no duplicates."
   ]
  },
  {
   "cell_type": "markdown",
   "id": "17277999",
   "metadata": {},
   "source": [
    "# 4. Hypothesis & Scatterplot (A)"
   ]
  },
  {
   "cell_type": "markdown",
   "id": "d883303f",
   "metadata": {},
   "source": [
    "> ### HYPOTHESIS: \"If a host has a higher response rate, then they will have better communication rating.\""
   ]
  },
  {
   "cell_type": "code",
   "execution_count": 8,
   "id": "8975bb3a",
   "metadata": {},
   "outputs": [
    {
     "data": {
      "image/png": "[encoded data removed]",
      "text/plain": [
       "<Figure size 432x288 with 1 Axes>"
      ]
     },
     "metadata": {
      "needs_background": "light"
     },
     "output_type": "display_data"
    }
   ],
   "source": [
    "# Creating a scatterplot to explore the relationship between communication rating & host response rate. \n",
    "\n",
    "df.plot(x = 'review_scores_communication', y = 'host_resp_rate_pct',style='o')\n",
    "plt.title('Response Rate vs Communication Review Score')  \n",
    "plt.xlabel('Review Score for Communication')  \n",
    "plt.ylabel('Host Response Rate')  \n",
    "plt.show()"
   ]
  },
  {
   "cell_type": "code",
   "execution_count": 9,
   "id": "09f4645a",
   "metadata": {},
   "outputs": [
    {
     "name": "stderr",
     "output_type": "stream",
     "text": [
      "/Users/charliegehant/opt/anaconda3/lib/python3.9/site-packages/seaborn/distributions.py:2619: FutureWarning: `distplot` is a deprecated function and will be removed in a future version. Please adapt your code to use either `displot` (a figure-level function with similar flexibility) or `histplot` (an axes-level function for histograms).\n",
      "  warnings.warn(msg, FutureWarning)\n"
     ]
    },
    {
     "data": {
      "text/plain": [
       "<AxesSubplot:xlabel='review_scores_communication', ylabel='Density'>"
      ]
     },
     "execution_count": 9,
     "metadata": {},
     "output_type": "execute_result"
    },
    {
     "data": {
      "image/png": "[encoded data removed]",
      "text/plain": [
       "<Figure size 432x288 with 1 Axes>"
      ]
     },
     "metadata": {
      "needs_background": "light"
     },
     "output_type": "display_data"
    }
   ],
   "source": [
    "# Looking for extreme values\n",
    "\n",
    "sns.distplot(df['review_scores_communication'], bins=25)"
   ]
  },
  {
   "cell_type": "code",
   "execution_count": 10,
   "id": "515e38cd",
   "metadata": {},
   "outputs": [
    {
     "data": {
      "text/plain": [
       "4.85"
      ]
     },
     "execution_count": 10,
     "metadata": {},
     "output_type": "execute_result"
    }
   ],
   "source": [
    "df['review_scores_communication'].median()"
   ]
  },
  {
   "cell_type": "code",
   "execution_count": 11,
   "id": "b5e1376a",
   "metadata": {},
   "outputs": [
    {
     "data": {
      "text/plain": [
       "count    66582.000000\n",
       "mean         4.805562\n",
       "std          0.391993\n",
       "min          0.000000\n",
       "25%          4.800000\n",
       "50%          4.850000\n",
       "75%          5.000000\n",
       "max          5.000000\n",
       "Name: review_scores_communication, dtype: float64"
      ]
     },
     "execution_count": 11,
     "metadata": {},
     "output_type": "execute_result"
    }
   ],
   "source": [
    "# Most listings have are reviewed 4.80 or higher\n",
    "\n",
    "df['review_scores_communication'].describe()"
   ]
  },
  {
   "cell_type": "code",
   "execution_count": 12,
   "id": "3583e1cf",
   "metadata": {},
   "outputs": [
    {
     "name": "stderr",
     "output_type": "stream",
     "text": [
      "/Users/charliegehant/opt/anaconda3/lib/python3.9/site-packages/seaborn/distributions.py:2619: FutureWarning: `distplot` is a deprecated function and will be removed in a future version. Please adapt your code to use either `displot` (a figure-level function with similar flexibility) or `histplot` (an axes-level function for histograms).\n",
      "  warnings.warn(msg, FutureWarning)\n"
     ]
    },
    {
     "data": {
      "text/plain": [
       "<AxesSubplot:xlabel='host_resp_rate_pct', ylabel='Density'>"
      ]
     },
     "execution_count": 12,
     "metadata": {},
     "output_type": "execute_result"
    },
    {
     "data": {
      "image/png": "[encoded data removed]",
      "text/plain": [
       "<Figure size 432x288 with 1 Axes>"
      ]
     },
     "metadata": {
      "needs_background": "light"
     },
     "output_type": "display_data"
    }
   ],
   "source": [
    "# Looking for extreme values\n",
    "\n",
    "sns.distplot(df['host_resp_rate_pct'], bins=25)"
   ]
  },
  {
   "cell_type": "code",
   "execution_count": 13,
   "id": "b4d184fc",
   "metadata": {},
   "outputs": [
    {
     "data": {
      "text/plain": [
       "89.0"
      ]
     },
     "execution_count": 13,
     "metadata": {},
     "output_type": "execute_result"
    }
   ],
   "source": [
    "df['host_resp_rate_pct'].median()"
   ]
  },
  {
   "cell_type": "code",
   "execution_count": 14,
   "id": "d20ee5ff",
   "metadata": {},
   "outputs": [
    {
     "data": {
      "text/plain": [
       "count    66582.000000\n",
       "mean        89.018278\n",
       "std         16.778037\n",
       "min          0.000000\n",
       "25%         89.000000\n",
       "50%         89.000000\n",
       "75%        100.000000\n",
       "max        100.000000\n",
       "Name: host_resp_rate_pct, dtype: float64"
      ]
     },
     "execution_count": 14,
     "metadata": {},
     "output_type": "execute_result"
    }
   ],
   "source": [
    "# Most hosts have a response rate of 89% or higher\n",
    "\n",
    "df['host_resp_rate_pct'].describe()"
   ]
  },
  {
   "cell_type": "markdown",
   "id": "2213214f",
   "metadata": {},
   "source": [
    "# 5. Regression Analysis (A)"
   ]
  },
  {
   "cell_type": "markdown",
   "id": "5ec03b13",
   "metadata": {},
   "source": [
    "##### PREPARING THE DATA"
   ]
  },
  {
   "cell_type": "code",
   "execution_count": 15,
   "id": "8ced4052",
   "metadata": {},
   "outputs": [],
   "source": [
    "# Step 1: Reshaping the variables into NumPy arrays and putting them into separate objects.\n",
    "\n",
    "X = df['review_scores_communication'].values.reshape(-1,1)\n",
    "y = df['host_resp_rate_pct'].values.reshape(-1,1)"
   ]
  },
  {
   "cell_type": "code",
   "execution_count": 16,
   "id": "a7e92597",
   "metadata": {},
   "outputs": [],
   "source": [
    "# Step 2: Splitting data into a training set and a test set.\n",
    "\n",
    "X_train, X_test, y_train, y_test = train_test_split(X, y, test_size=0.3, random_state=0)"
   ]
  },
  {
   "cell_type": "markdown",
   "id": "28d22fc5",
   "metadata": {},
   "source": [
    "##### REGRESSION ANALYSIS"
   ]
  },
  {
   "cell_type": "code",
   "execution_count": 17,
   "id": "7f7b2bb4",
   "metadata": {},
   "outputs": [],
   "source": [
    "# Creating a regression object.\n",
    "\n",
    "regression = LinearRegression() "
   ]
  },
  {
   "cell_type": "code",
   "execution_count": 18,
   "id": "cb7870e9",
   "metadata": {},
   "outputs": [
    {
     "data": {
      "text/plain": [
       "LinearRegression()"
      ]
     },
     "execution_count": 18,
     "metadata": {},
     "output_type": "execute_result"
    }
   ],
   "source": [
    "# Fitting the regression object onto the training set.\n",
    "\n",
    "regression.fit(X_train, y_train)"
   ]
  },
  {
   "cell_type": "code",
   "execution_count": 19,
   "id": "14de7797",
   "metadata": {},
   "outputs": [],
   "source": [
    "# Predicting the values of y using X.\n",
    "\n",
    "y_predicted = regression.predict(X_test)"
   ]
  },
  {
   "cell_type": "code",
   "execution_count": 20,
   "id": "f4c0c899",
   "metadata": {},
   "outputs": [
    {
     "data": {
      "image/png": "[encoded data removed]",
      "text/plain": [
       "<Figure size 432x288 with 1 Axes>"
      ]
     },
     "metadata": {
      "needs_background": "light"
     },
     "output_type": "display_data"
    }
   ],
   "source": [
    "# Creating a plot that shows the regression line from the model on the test set.\n",
    "# It seems the correlation, although postive, is not very strong.\n",
    "\n",
    "plot_test = plt\n",
    "plot_test.scatter(X_test, y_test, color='gray', s = 15)\n",
    "plot_test.plot(X_test, y_predicted, color='red', linewidth =3)\n",
    "plot_test.title('Response Rate vs Communication Review Score (Test set)')\n",
    "plot_test.xlabel('Review Score for Communication')\n",
    "plot_test.ylabel('Host Response Rate')\n",
    "plot_test.show()"
   ]
  },
  {
   "cell_type": "code",
   "execution_count": 21,
   "id": "9d41ef9a",
   "metadata": {},
   "outputs": [],
   "source": [
    "# Creating objects that contain the model summary statistics.\n",
    "\n",
    "rmse = mean_squared_error(y_test, y_predicted) \n",
    "r2 = r2_score(y_test, y_predicted) "
   ]
  },
  {
   "cell_type": "code",
   "execution_count": 22,
   "id": "d16bc329",
   "metadata": {},
   "outputs": [
    {
     "name": "stdout",
     "output_type": "stream",
     "text": [
      "Slope: [[3.02834561]]\n",
      "Mean squared error:  285.16477026029946\n",
      "R2 score:  0.003308408844782007\n"
     ]
    }
   ],
   "source": [
    "# Printing the model summary statistics. This is where you evaluate the performance of the model.\n",
    "\n",
    "print('Slope:' ,regression.coef_)\n",
    "print('Mean squared error: ', rmse)\n",
    "print('R2 score: ', r2)"
   ]
  },
  {
   "cell_type": "markdown",
   "id": "3c34b015",
   "metadata": {},
   "source": [
    "### COMMENTS\n",
    "\n",
    "> ##### The slope is positive, therefore there is a positive relationship between Host Response Rate & Review Score for Communication.\n",
    "\n",
    "> ##### The MSE is very high, meaning the regression line is a poor representation of the data.\n",
    "\n",
    "> ##### The R2 score is very low, 0.3%, which means the model is a poor fit. "
   ]
  },
  {
   "cell_type": "markdown",
   "id": "db646c2e",
   "metadata": {},
   "source": [
    "##### COMPARING ACTUAL & PREDICTED VALUES"
   ]
  },
  {
   "cell_type": "code",
   "execution_count": 23,
   "id": "dcc3fcab",
   "metadata": {},
   "outputs": [
    {
     "data": {
      "text/html": [
       "<div>\n",
       "<style scoped>\n",
       "    .dataframe tbody tr th:only-of-type {\n",
       "        vertical-align: middle;\n",
       "    }\n",
       "\n",
       "    .dataframe tbody tr th {\n",
       "        vertical-align: top;\n",
       "    }\n",
       "\n",
       "    .dataframe thead th {\n",
       "        text-align: right;\n",
       "    }\n",
       "</style>\n",
       "<table border=\"1\" class=\"dataframe\">\n",
       "  <thead>\n",
       "    <tr style=\"text-align: right;\">\n",
       "      <th></th>\n",
       "      <th>Actual</th>\n",
       "      <th>Predicted</th>\n",
       "    </tr>\n",
       "  </thead>\n",
       "  <tbody>\n",
       "    <tr>\n",
       "      <th>0</th>\n",
       "      <td>89</td>\n",
       "      <td>89.613974</td>\n",
       "    </tr>\n",
       "    <tr>\n",
       "      <th>1</th>\n",
       "      <td>89</td>\n",
       "      <td>89.311140</td>\n",
       "    </tr>\n",
       "    <tr>\n",
       "      <th>2</th>\n",
       "      <td>89</td>\n",
       "      <td>89.613974</td>\n",
       "    </tr>\n",
       "    <tr>\n",
       "      <th>3</th>\n",
       "      <td>100</td>\n",
       "      <td>88.614620</td>\n",
       "    </tr>\n",
       "    <tr>\n",
       "      <th>4</th>\n",
       "      <td>89</td>\n",
       "      <td>88.614620</td>\n",
       "    </tr>\n",
       "    <tr>\n",
       "      <th>5</th>\n",
       "      <td>94</td>\n",
       "      <td>87.251865</td>\n",
       "    </tr>\n",
       "    <tr>\n",
       "      <th>6</th>\n",
       "      <td>100</td>\n",
       "      <td>89.613974</td>\n",
       "    </tr>\n",
       "    <tr>\n",
       "      <th>7</th>\n",
       "      <td>100</td>\n",
       "      <td>85.586275</td>\n",
       "    </tr>\n",
       "    <tr>\n",
       "      <th>8</th>\n",
       "      <td>100</td>\n",
       "      <td>89.008305</td>\n",
       "    </tr>\n",
       "    <tr>\n",
       "      <th>9</th>\n",
       "      <td>100</td>\n",
       "      <td>88.735754</td>\n",
       "    </tr>\n",
       "    <tr>\n",
       "      <th>10</th>\n",
       "      <td>89</td>\n",
       "      <td>89.613974</td>\n",
       "    </tr>\n",
       "    <tr>\n",
       "      <th>11</th>\n",
       "      <td>100</td>\n",
       "      <td>89.008305</td>\n",
       "    </tr>\n",
       "    <tr>\n",
       "      <th>12</th>\n",
       "      <td>89</td>\n",
       "      <td>89.008305</td>\n",
       "    </tr>\n",
       "    <tr>\n",
       "      <th>13</th>\n",
       "      <td>89</td>\n",
       "      <td>89.008305</td>\n",
       "    </tr>\n",
       "    <tr>\n",
       "      <th>14</th>\n",
       "      <td>100</td>\n",
       "      <td>89.553407</td>\n",
       "    </tr>\n",
       "    <tr>\n",
       "      <th>15</th>\n",
       "      <td>89</td>\n",
       "      <td>89.008305</td>\n",
       "    </tr>\n",
       "    <tr>\n",
       "      <th>16</th>\n",
       "      <td>89</td>\n",
       "      <td>89.613974</td>\n",
       "    </tr>\n",
       "    <tr>\n",
       "      <th>17</th>\n",
       "      <td>89</td>\n",
       "      <td>89.008305</td>\n",
       "    </tr>\n",
       "    <tr>\n",
       "      <th>18</th>\n",
       "      <td>89</td>\n",
       "      <td>89.008305</td>\n",
       "    </tr>\n",
       "    <tr>\n",
       "      <th>19</th>\n",
       "      <td>90</td>\n",
       "      <td>88.856888</td>\n",
       "    </tr>\n",
       "    <tr>\n",
       "      <th>20</th>\n",
       "      <td>89</td>\n",
       "      <td>89.008305</td>\n",
       "    </tr>\n",
       "    <tr>\n",
       "      <th>21</th>\n",
       "      <td>94</td>\n",
       "      <td>89.613974</td>\n",
       "    </tr>\n",
       "    <tr>\n",
       "      <th>22</th>\n",
       "      <td>89</td>\n",
       "      <td>89.008305</td>\n",
       "    </tr>\n",
       "    <tr>\n",
       "      <th>23</th>\n",
       "      <td>70</td>\n",
       "      <td>89.401990</td>\n",
       "    </tr>\n",
       "    <tr>\n",
       "      <th>24</th>\n",
       "      <td>100</td>\n",
       "      <td>88.978022</td>\n",
       "    </tr>\n",
       "    <tr>\n",
       "      <th>25</th>\n",
       "      <td>89</td>\n",
       "      <td>89.008305</td>\n",
       "    </tr>\n",
       "    <tr>\n",
       "      <th>26</th>\n",
       "      <td>67</td>\n",
       "      <td>89.523124</td>\n",
       "    </tr>\n",
       "    <tr>\n",
       "      <th>27</th>\n",
       "      <td>89</td>\n",
       "      <td>89.008305</td>\n",
       "    </tr>\n",
       "    <tr>\n",
       "      <th>28</th>\n",
       "      <td>100</td>\n",
       "      <td>89.008305</td>\n",
       "    </tr>\n",
       "    <tr>\n",
       "      <th>29</th>\n",
       "      <td>89</td>\n",
       "      <td>89.008305</td>\n",
       "    </tr>\n",
       "  </tbody>\n",
       "</table>\n",
       "</div>"
      ],
      "text/plain": [
       "    Actual  Predicted\n",
       "0       89  89.613974\n",
       "1       89  89.311140\n",
       "2       89  89.613974\n",
       "3      100  88.614620\n",
       "4       89  88.614620\n",
       "5       94  87.251865\n",
       "6      100  89.613974\n",
       "7      100  85.586275\n",
       "8      100  89.008305\n",
       "9      100  88.735754\n",
       "10      89  89.613974\n",
       "11     100  89.008305\n",
       "12      89  89.008305\n",
       "13      89  89.008305\n",
       "14     100  89.553407\n",
       "15      89  89.008305\n",
       "16      89  89.613974\n",
       "17      89  89.008305\n",
       "18      89  89.008305\n",
       "19      90  88.856888\n",
       "20      89  89.008305\n",
       "21      94  89.613974\n",
       "22      89  89.008305\n",
       "23      70  89.401990\n",
       "24     100  88.978022\n",
       "25      89  89.008305\n",
       "26      67  89.523124\n",
       "27      89  89.008305\n",
       "28     100  89.008305\n",
       "29      89  89.008305"
      ]
     },
     "execution_count": 23,
     "metadata": {},
     "output_type": "execute_result"
    }
   ],
   "source": [
    "# Creating a dataframe comparing the actual and predicted values of y.\n",
    "\n",
    "data = pd.DataFrame({'Actual': y_test.flatten(), 'Predicted': y_predicted.flatten()})\n",
    "data.head(30)"
   ]
  },
  {
   "cell_type": "markdown",
   "id": "39e21033",
   "metadata": {},
   "source": [
    "##### COMPARING HOW THE REGRESSION FITS THE TRAINING SET"
   ]
  },
  {
   "cell_type": "code",
   "execution_count": 24,
   "id": "07509ad2",
   "metadata": {},
   "outputs": [],
   "source": [
    "# Predicting X_train\n",
    "\n",
    "y_predicted_train = regression.predict(X_train)"
   ]
  },
  {
   "cell_type": "code",
   "execution_count": 25,
   "id": "61a3e8d7",
   "metadata": {},
   "outputs": [],
   "source": [
    "rmse = mean_squared_error(y_train, y_predicted_train)\n",
    "r2 = r2_score(y_train, y_predicted_train)"
   ]
  },
  {
   "cell_type": "code",
   "execution_count": 26,
   "id": "5af3e21f",
   "metadata": {},
   "outputs": [
    {
     "name": "stdout",
     "output_type": "stream",
     "text": [
      "Slope: [[3.02834561]]\n",
      "Mean squared error:  278.11357968600237\n",
      "R2 score:  0.005034620894046715\n"
     ]
    }
   ],
   "source": [
    "print('Slope:' ,regression.coef_)\n",
    "print('Mean squared error: ', rmse)\n",
    "print('R2 score: ', r2)"
   ]
  },
  {
   "cell_type": "code",
   "execution_count": 27,
   "id": "9e925903",
   "metadata": {},
   "outputs": [
    {
     "data": {
      "image/png": "[encoded data removed]",
      "text/plain": [
       "<Figure size 432x288 with 1 Axes>"
      ]
     },
     "metadata": {
      "needs_background": "light"
     },
     "output_type": "display_data"
    }
   ],
   "source": [
    "# Visualizing the training set results.\n",
    "\n",
    "plot_test = plt\n",
    "plot_test.scatter(X_train, y_train, color='green', s = 15)\n",
    "plot_test.plot(X_train, y_predicted_train, color='red', linewidth =3)\n",
    "plot_test.title('Response Rate vs Communication Review Score (Train set)')\n",
    "plot_test.xlabel('Review Score for Communication')\n",
    "plot_test.ylabel('Host Response Rate')\n",
    "plot_test.show()"
   ]
  },
  {
   "cell_type": "markdown",
   "id": "eacc2465",
   "metadata": {},
   "source": [
    "### COMMENTS\n",
    "\n",
    "> ##### Altogether my hypothesis is false and has been rejected / proven wrong, even though I was convinced host reponse time and review score for communication would strongly correlate. \n",
    "\n",
    "> ##### I feel like the instant bookable feature (which then does not require the host reponse) may change the results. Moreover, I feel like looking only at the \"normal data\" may give me a clearer picture. \n",
    "\n",
    "> ##### \"Normal data\" = 'review_scores_communication' >= 4.80 & 'host_resp_rate_pct' >= 89"
   ]
  },
  {
   "cell_type": "markdown",
   "id": "b61b7453",
   "metadata": {},
   "source": [
    "# 6. Performance Improvement (A)"
   ]
  },
  {
   "cell_type": "markdown",
   "id": "34299ac0",
   "metadata": {},
   "source": [
    "### Refining Data & Removing Outliers "
   ]
  },
  {
   "cell_type": "code",
   "execution_count": 28,
   "id": "f02b4cf5",
   "metadata": {},
   "outputs": [],
   "source": [
    "# Droping all instant bookable bookings (which do not require communication form host)\n",
    "\n",
    "df_no_ib = df.drop(df[(df['instant_bookable'] == 't')].index)"
   ]
  },
  {
   "cell_type": "code",
   "execution_count": 29,
   "id": "59014a1f",
   "metadata": {},
   "outputs": [
    {
     "data": {
      "text/plain": [
       "f    44289\n",
       "t    22293\n",
       "Name: instant_bookable, dtype: int64"
      ]
     },
     "execution_count": 29,
     "metadata": {},
     "output_type": "execute_result"
    }
   ],
   "source": [
    "# Checking data (before)\n",
    "\n",
    "df['instant_bookable'].value_counts()"
   ]
  },
  {
   "cell_type": "code",
   "execution_count": 30,
   "id": "68a14292",
   "metadata": {},
   "outputs": [
    {
     "data": {
      "text/plain": [
       "f    44289\n",
       "Name: instant_bookable, dtype: int64"
      ]
     },
     "execution_count": 30,
     "metadata": {},
     "output_type": "execute_result"
    }
   ],
   "source": [
    "# Checking data (after)\n",
    "\n",
    "df_no_ib['instant_bookable'].value_counts()"
   ]
  },
  {
   "cell_type": "code",
   "execution_count": 31,
   "id": "da2955bb",
   "metadata": {},
   "outputs": [],
   "source": [
    "# Isolating only ratings equal or above 4.80\n",
    "\n",
    "df_2 = df_no_ib[df_no_ib['review_scores_communication'] >= 4.80]"
   ]
  },
  {
   "cell_type": "code",
   "execution_count": 32,
   "id": "5e4464d8",
   "metadata": {},
   "outputs": [],
   "source": [
    "# Isolating only response rate equal or above 89%\n",
    "\n",
    "df_3 = df_2[df_2['host_resp_rate_pct'] >= 89]"
   ]
  },
  {
   "cell_type": "code",
   "execution_count": 33,
   "id": "a10261fd",
   "metadata": {},
   "outputs": [
    {
     "data": {
      "image/png": "[encoded data removed]",
      "text/plain": [
       "<Figure size 432x288 with 1 Axes>"
      ]
     },
     "metadata": {
      "needs_background": "light"
     },
     "output_type": "display_data"
    }
   ],
   "source": [
    "# Creating a scatterplot to explore the relationship between variables. \n",
    "\n",
    "df_3.plot(x = 'review_scores_communication', y = 'host_resp_rate_pct',style='o')\n",
    "plt.title('Response Rate vs Communication Review Score')  \n",
    "plt.xlabel('Review Score for Communication')  \n",
    "plt.ylabel('Host Response Rate')  \n",
    "plt.show()"
   ]
  },
  {
   "cell_type": "code",
   "execution_count": 34,
   "id": "fb9ceb55",
   "metadata": {},
   "outputs": [],
   "source": [
    "# Reshaping the variables into NumPy arrays and putting them into separate objects.\n",
    "\n",
    "X = df_3['review_scores_communication'].values.reshape(-1,1)\n",
    "y = df_3['host_resp_rate_pct'].values.reshape(-1,1)"
   ]
  },
  {
   "cell_type": "code",
   "execution_count": 35,
   "id": "5b79da26",
   "metadata": {},
   "outputs": [],
   "source": [
    "# Splitting data into a training set and a test set.\n",
    "\n",
    "X_train, X_test, y_train, y_test = train_test_split(X, y, test_size=0.3, random_state=0)"
   ]
  },
  {
   "cell_type": "code",
   "execution_count": 36,
   "id": "5ecc276a",
   "metadata": {},
   "outputs": [],
   "source": [
    "# Creating a regression object.\n",
    "\n",
    "regression = LinearRegression() "
   ]
  },
  {
   "cell_type": "code",
   "execution_count": 37,
   "id": "bd9578c7",
   "metadata": {},
   "outputs": [
    {
     "data": {
      "text/plain": [
       "LinearRegression()"
      ]
     },
     "execution_count": 37,
     "metadata": {},
     "output_type": "execute_result"
    }
   ],
   "source": [
    "# Fitting the regression object onto the training set.\n",
    "\n",
    "regression.fit(X_train, y_train)"
   ]
  },
  {
   "cell_type": "code",
   "execution_count": 38,
   "id": "6a3586be",
   "metadata": {},
   "outputs": [],
   "source": [
    "# Predicting the values of y using X.\n",
    "\n",
    "y_predicted = regression.predict(X_test)"
   ]
  },
  {
   "cell_type": "code",
   "execution_count": 39,
   "id": "10e240fa",
   "metadata": {},
   "outputs": [
    {
     "data": {
      "image/png": "[encoded data removed]",
      "text/plain": [
       "<Figure size 432x288 with 1 Axes>"
      ]
     },
     "metadata": {
      "needs_background": "light"
     },
     "output_type": "display_data"
    }
   ],
   "source": [
    "# Creating a plot that shows the regression line from the model on the test set.\n",
    "# It seems the correlation, although postive, is not very strong.\n",
    "\n",
    "plot_test = plt\n",
    "plot_test.scatter(X_test, y_test, color='gray', s = 15)\n",
    "plot_test.plot(X_test, y_predicted, color='red', linewidth =3)\n",
    "plot_test.title('Response Rate vs Communication Review Score (Test set)')\n",
    "plot_test.xlabel('Review Score for Communication')\n",
    "plot_test.ylabel('Host Response Rate')\n",
    "plot_test.show()"
   ]
  },
  {
   "cell_type": "code",
   "execution_count": 40,
   "id": "b7107ba3",
   "metadata": {},
   "outputs": [],
   "source": [
    "# Creating objects that contain the model summary statistics.\n",
    "\n",
    "rmse = mean_squared_error(y_test, y_predicted) \n",
    "r2 = r2_score(y_test, y_predicted) "
   ]
  },
  {
   "cell_type": "code",
   "execution_count": 41,
   "id": "bb895d8b",
   "metadata": {},
   "outputs": [
    {
     "name": "stdout",
     "output_type": "stream",
     "text": [
      "Slope: [[4.7342004]]\n",
      "Mean squared error:  27.09520003573448\n",
      "R2 score:  0.004927505275547972\n"
     ]
    }
   ],
   "source": [
    "# Printing the model summary statistics. This is where you evaluate the performance of the model.\n",
    "\n",
    "print('Slope:' ,regression.coef_)\n",
    "print('Mean squared error: ', rmse)\n",
    "print('R2 score: ', r2)"
   ]
  },
  {
   "cell_type": "markdown",
   "id": "d7de7b25",
   "metadata": {},
   "source": [
    "### COMMENTS/CONCLUSION\n",
    "\n",
    "> ##### When dropping some of the data and zooming in to explore the relationship within the main part of the data, I still come to the same conclusion; there is not a strong correlation between the host response rate and the review score for communication. \n",
    "\n",
    "> ##### The model performed poorly and this means I should focus on other variables and find other correlation / relationships in the data. "
   ]
  },
  {
   "cell_type": "markdown",
   "id": "fca840fe",
   "metadata": {},
   "source": [
    "# 7. Hypothesis & Scatterplot (B)"
   ]
  },
  {
   "cell_type": "markdown",
   "id": "f3952700",
   "metadata": {},
   "source": [
    "### HYPOTHESIS: \"If a listing has a more reviews, then its price per night will be higher.\" \n"
   ]
  },
  {
   "cell_type": "code",
   "execution_count": 45,
   "id": "6e3c83e5",
   "metadata": {},
   "outputs": [
    {
     "data": {
      "image/png": "[encoded data removed]",
      "text/plain": [
       "<Figure size 432x288 with 1 Axes>"
      ]
     },
     "metadata": {
      "needs_background": "light"
     },
     "output_type": "display_data"
    }
   ],
   "source": [
    "# Creating a scatterplot to explore the relationship between number of reviews & price. \n",
    "\n",
    "df.plot(x = 'number_of_reviews', y = 'price_usd',style='o')\n",
    "plt.title('Number of Reviews vs Price')  \n",
    "plt.xlabel('Number of Reviews')  \n",
    "plt.ylabel('Price (usd)')  \n",
    "plt.show()"
   ]
  },
  {
   "cell_type": "code",
   "execution_count": 47,
   "id": "1ddee87c",
   "metadata": {},
   "outputs": [
    {
     "name": "stderr",
     "output_type": "stream",
     "text": [
      "/Users/charliegehant/opt/anaconda3/lib/python3.9/site-packages/seaborn/distributions.py:2619: FutureWarning: `distplot` is a deprecated function and will be removed in a future version. Please adapt your code to use either `displot` (a figure-level function with similar flexibility) or `histplot` (an axes-level function for histograms).\n",
      "  warnings.warn(msg, FutureWarning)\n"
     ]
    },
    {
     "data": {
      "text/plain": [
       "<AxesSubplot:xlabel='number_of_reviews', ylabel='Density'>"
      ]
     },
     "execution_count": 47,
     "metadata": {},
     "output_type": "execute_result"
    },
    {
     "data": {
      "image/png": "[encoded data removed]",
      "text/plain": [
       "<Figure size 432x288 with 1 Axes>"
      ]
     },
     "metadata": {
      "needs_background": "light"
     },
     "output_type": "display_data"
    }
   ],
   "source": [
    "# Looking for extreme values\n",
    "\n",
    "sns.distplot(df['number_of_reviews'], bins=25)"
   ]
  },
  {
   "cell_type": "code",
   "execution_count": 49,
   "id": "caeb36fb",
   "metadata": {},
   "outputs": [
    {
     "data": {
      "text/plain": [
       "count    66582.000000\n",
       "mean        15.653705\n",
       "std         36.787570\n",
       "min          0.000000\n",
       "25%          0.000000\n",
       "50%          3.000000\n",
       "75%         14.000000\n",
       "max        974.000000\n",
       "Name: number_of_reviews, dtype: float64"
      ]
     },
     "execution_count": 49,
     "metadata": {},
     "output_type": "execute_result"
    }
   ],
   "source": [
    "# Checking the data\n",
    "# 50% of listings have 3 or less reviews, 75% of listings have 14 or less reviews. \n",
    "\n",
    "df['number_of_reviews'].describe()"
   ]
  },
  {
   "cell_type": "code",
   "execution_count": 88,
   "id": "1ca935f3",
   "metadata": {},
   "outputs": [
    {
     "data": {
      "text/plain": [
       "21951    974\n",
       "1672     868\n",
       "1673     713\n",
       "8783     711\n",
       "2151     699\n",
       "        ... \n",
       "21992      0\n",
       "53777      0\n",
       "53776      0\n",
       "21993      0\n",
       "66581      0\n",
       "Name: number_of_reviews, Length: 66582, dtype: int64"
      ]
     },
     "execution_count": 88,
     "metadata": {},
     "output_type": "execute_result"
    }
   ],
   "source": [
    "# Checking the data (head & tail)\n",
    "\n",
    "df['number_of_reviews'].sort_values(ascending=False)"
   ]
  },
  {
   "cell_type": "code",
   "execution_count": 110,
   "id": "09712bbc",
   "metadata": {},
   "outputs": [
    {
     "data": {
      "text/plain": [
       "0    18539\n",
       "1     7920\n",
       "2     4768\n",
       "3     3533\n",
       "4     2688\n",
       "5     2238\n",
       "6     1870\n",
       "7     1594\n",
       "8     1397\n",
       "9     1189\n",
       "Name: number_of_reviews, dtype: int64"
      ]
     },
     "execution_count": 110,
     "metadata": {},
     "output_type": "execute_result"
    }
   ],
   "source": [
    "# Almost a third of the data (listings) have zero ratings\n",
    "\n",
    "df['number_of_reviews'].value_counts().sort_index().head(10)"
   ]
  },
  {
   "cell_type": "code",
   "execution_count": 108,
   "id": "fa0348c3",
   "metadata": {},
   "outputs": [
    {
     "name": "stderr",
     "output_type": "stream",
     "text": [
      "/Users/charliegehant/opt/anaconda3/lib/python3.9/site-packages/seaborn/distributions.py:2619: FutureWarning: `distplot` is a deprecated function and will be removed in a future version. Please adapt your code to use either `displot` (a figure-level function with similar flexibility) or `histplot` (an axes-level function for histograms).\n",
      "  warnings.warn(msg, FutureWarning)\n"
     ]
    },
    {
     "data": {
      "text/plain": [
       "<AxesSubplot:xlabel='price_usd', ylabel='Density'>"
      ]
     },
     "execution_count": 108,
     "metadata": {},
     "output_type": "execute_result"
    },
    {
     "data": {
      "image/png": "[encoded data removed]",
      "text/plain": [
       "<Figure size 432x288 with 1 Axes>"
      ]
     },
     "metadata": {
      "needs_background": "light"
     },
     "output_type": "display_data"
    }
   ],
   "source": [
    "# Looking for extreme values\n",
    "\n",
    "sns.distplot(df['price_usd'], bins=25)"
   ]
  },
  {
   "cell_type": "code",
   "execution_count": 52,
   "id": "114f51ee",
   "metadata": {},
   "outputs": [
    {
     "data": {
      "text/plain": [
       "count    66582.000000\n",
       "mean       145.264501\n",
       "std        350.056700\n",
       "min          0.000000\n",
       "25%         46.000000\n",
       "50%         83.000000\n",
       "75%        145.000000\n",
       "max      18557.000000\n",
       "Name: price_usd, dtype: float64"
      ]
     },
     "execution_count": 52,
     "metadata": {},
     "output_type": "execute_result"
    }
   ],
   "source": [
    "# Checking the data\n",
    "# The average price per night is $145 but half of the listings are $83 or less\n",
    "\n",
    "df['price_usd'].describe()"
   ]
  },
  {
   "cell_type": "code",
   "execution_count": 113,
   "id": "131c99f5",
   "metadata": {},
   "outputs": [
    {
     "data": {
      "text/plain": [
       "25441    18557.0\n",
       "17420    16706.0\n",
       "41442    16696.0\n",
       "38032    16631.0\n",
       "51978    14360.0\n",
       "          ...   \n",
       "55189        0.0\n",
       "50941        0.0\n",
       "51882        0.0\n",
       "51712        0.0\n",
       "50291        0.0\n",
       "Name: price_usd, Length: 66582, dtype: float64"
      ]
     },
     "execution_count": 113,
     "metadata": {},
     "output_type": "execute_result"
    }
   ],
   "source": [
    "# Checking the data\n",
    "\n",
    "df['price_usd'].sort_values(ascending=False)"
   ]
  },
  {
   "cell_type": "code",
   "execution_count": 119,
   "id": "a5a53bda",
   "metadata": {},
   "outputs": [
    {
     "data": {
      "text/plain": [
       "0.0      21\n",
       "7.0       2\n",
       "8.0      28\n",
       "9.0       1\n",
       "10.0     56\n",
       "11.0      7\n",
       "12.0     15\n",
       "13.0     17\n",
       "14.0     22\n",
       "15.0    111\n",
       "Name: price_usd, dtype: int64"
      ]
     },
     "execution_count": 119,
     "metadata": {},
     "output_type": "execute_result"
    }
   ],
   "source": [
    "# Checking the data\n",
    "# Only 21 listing at $0 (insignificant for analysis)\n",
    "\n",
    "df['price_usd'].value_counts().sort_index().head(10)"
   ]
  },
  {
   "cell_type": "code",
   "execution_count": 115,
   "id": "83f92276",
   "metadata": {},
   "outputs": [
    {
     "data": {
      "text/plain": [
       "7800.0     1\n",
       "7852.0     1\n",
       "8000.0     1\n",
       "9428.0     4\n",
       "12345.0    1\n",
       "14360.0    9\n",
       "16631.0    1\n",
       "16696.0    1\n",
       "16706.0    1\n",
       "18557.0    1\n",
       "Name: price_usd, dtype: int64"
      ]
     },
     "execution_count": 115,
     "metadata": {},
     "output_type": "execute_result"
    }
   ],
   "source": [
    "# Checking the data\n",
    "# A few luxury / extremely expensive listings\n",
    "\n",
    "df['price_usd'].value_counts().sort_index().tail(10)"
   ]
  },
  {
   "cell_type": "markdown",
   "id": "70f04923",
   "metadata": {},
   "source": [
    "# 8. Regression Analysis (B)\n"
   ]
  },
  {
   "cell_type": "code",
   "execution_count": 59,
   "id": "094e2ac6",
   "metadata": {},
   "outputs": [],
   "source": [
    "# Step 1: Reshaping the variables into NumPy arrays and putting them into separate objects.\n",
    "\n",
    "X = df['number_of_reviews'].values.reshape(-1,1)\n",
    "y = df['price_usd'].values.reshape(-1,1)"
   ]
  },
  {
   "cell_type": "code",
   "execution_count": 60,
   "id": "e3e0fbfb",
   "metadata": {},
   "outputs": [],
   "source": [
    "# Step 2: Splitting data into a training set and a test set.\n",
    "\n",
    "X_train, X_test, y_train, y_test = train_test_split(X, y, test_size=0.3, random_state=0)"
   ]
  },
  {
   "cell_type": "code",
   "execution_count": 61,
   "id": "1f22e794",
   "metadata": {},
   "outputs": [],
   "source": [
    "# Creating a regression object.\n",
    "\n",
    "regression = LinearRegression() "
   ]
  },
  {
   "cell_type": "code",
   "execution_count": 63,
   "id": "41622950",
   "metadata": {},
   "outputs": [
    {
     "data": {
      "text/plain": [
       "LinearRegression()"
      ]
     },
     "execution_count": 63,
     "metadata": {},
     "output_type": "execute_result"
    }
   ],
   "source": [
    "# Fitting the regression object onto the training set.\n",
    "\n",
    "regression.fit(X_train, y_train)"
   ]
  },
  {
   "cell_type": "code",
   "execution_count": 64,
   "id": "f999c49e",
   "metadata": {},
   "outputs": [],
   "source": [
    "# Predicting the values of y using X.\n",
    "\n",
    "y_predicted = regression.predict(X_test)"
   ]
  },
  {
   "cell_type": "code",
   "execution_count": 65,
   "id": "9ca4f1c8",
   "metadata": {},
   "outputs": [
    {
     "data": {
      "image/png": "[encoded data removed]",
      "text/plain": [
       "<Figure size 432x288 with 1 Axes>"
      ]
     },
     "metadata": {
      "needs_background": "light"
     },
     "output_type": "display_data"
    }
   ],
   "source": [
    "# Creating a plot that shows the regression line from the model on the test set.\n",
    "# It seems the correlation is negative! (but very weak)\n",
    "\n",
    "plot_test = plt\n",
    "plot_test.scatter(X_test, y_test, color='gray', s = 15)\n",
    "plot_test.plot(X_test, y_predicted, color='red', linewidth =3)\n",
    "plot_test.title('Number of Reviews vs Price (Test set)')\n",
    "plot_test.xlabel('Number of Reviews')\n",
    "plot_test.ylabel('Price (usd)')\n",
    "plot_test.show()"
   ]
  },
  {
   "cell_type": "code",
   "execution_count": 66,
   "id": "331433dd",
   "metadata": {},
   "outputs": [],
   "source": [
    "# Creating objects that contain the model summary statistics.\n",
    "\n",
    "rmse = mean_squared_error(y_test, y_predicted) \n",
    "r2 = r2_score(y_test, y_predicted) "
   ]
  },
  {
   "cell_type": "code",
   "execution_count": 67,
   "id": "d8c7aa45",
   "metadata": {},
   "outputs": [
    {
     "name": "stdout",
     "output_type": "stream",
     "text": [
      "Slope: [[-0.49590147]]\n",
      "Mean squared error:  142881.06201209754\n",
      "R2 score:  0.0015193529146125817\n"
     ]
    }
   ],
   "source": [
    "# Printing the model summary statistics. This is where you evaluate the performance of the model.\n",
    "\n",
    "print('Slope:' ,regression.coef_)\n",
    "print('Mean squared error: ', rmse)\n",
    "print('R2 score: ', r2)"
   ]
  },
  {
   "cell_type": "markdown",
   "id": "f6bbcc81",
   "metadata": {},
   "source": [
    "### COMMENTS\n",
    "\n",
    "> ##### The slope is negative, therefore there is a negative relationship between Number of Reviews & Price.\n",
    "\n",
    "> ##### The MSE is very high, meaning the regression line is a poor representation of the data.\n",
    "\n",
    "> ##### The R2 score is very low, which means the model is a poor fit."
   ]
  },
  {
   "cell_type": "markdown",
   "id": "4331bd98",
   "metadata": {},
   "source": [
    "# 9. Performance Improvement (B)"
   ]
  },
  {
   "cell_type": "code",
   "execution_count": 96,
   "id": "fbeed970",
   "metadata": {},
   "outputs": [],
   "source": [
    "# Isolating only listings priced below $250\n",
    "# $250 seems like a reasonable high threshold for an average listing\n",
    "\n",
    "df_A = df[df['price_usd'] <= 250]"
   ]
  },
  {
   "cell_type": "code",
   "execution_count": 99,
   "id": "38ff859f",
   "metadata": {},
   "outputs": [
    {
     "data": {
      "image/png": "[encoded data removed]",
      "text/plain": [
       "<Figure size 432x288 with 1 Axes>"
      ]
     },
     "metadata": {
      "needs_background": "light"
     },
     "output_type": "display_data"
    }
   ],
   "source": [
    "# Creating a scatterplot to explore the relationship between number of reviews & price. \n",
    "\n",
    "df_A.plot(x = 'number_of_reviews', y = 'price_usd',style='o')\n",
    "plt.title('Number of Reviews vs Price')  \n",
    "plt.xlabel('Number of Reviews')  \n",
    "plt.ylabel('Price (usd)')  \n",
    "plt.show()"
   ]
  },
  {
   "cell_type": "code",
   "execution_count": 100,
   "id": "fa35475d",
   "metadata": {},
   "outputs": [],
   "source": [
    "# Step 1: Reshaping the variables into NumPy arrays and putting them into separate objects.\n",
    "\n",
    "X = df_A['number_of_reviews'].values.reshape(-1,1)\n",
    "y = df_A['price_usd'].values.reshape(-1,1)"
   ]
  },
  {
   "cell_type": "code",
   "execution_count": 101,
   "id": "41b79678",
   "metadata": {},
   "outputs": [],
   "source": [
    "# Step 2: Splitting data into a training set and a test set.\n",
    "\n",
    "X_train, X_test, y_train, y_test = train_test_split(X, y, test_size=0.3, random_state=0)"
   ]
  },
  {
   "cell_type": "code",
   "execution_count": 102,
   "id": "7829687e",
   "metadata": {},
   "outputs": [],
   "source": [
    "# Creating a regression object.\n",
    "\n",
    "regression = LinearRegression() "
   ]
  },
  {
   "cell_type": "code",
   "execution_count": 103,
   "id": "1b0a1974",
   "metadata": {},
   "outputs": [
    {
     "data": {
      "text/plain": [
       "LinearRegression()"
      ]
     },
     "execution_count": 103,
     "metadata": {},
     "output_type": "execute_result"
    }
   ],
   "source": [
    "# Fitting the regression object onto the training set.\n",
    "\n",
    "regression.fit(X_train, y_train)"
   ]
  },
  {
   "cell_type": "code",
   "execution_count": 104,
   "id": "560f07e7",
   "metadata": {},
   "outputs": [],
   "source": [
    "# Predicting the values of y using X.\n",
    "\n",
    "y_predicted = regression.predict(X_test)"
   ]
  },
  {
   "cell_type": "code",
   "execution_count": 105,
   "id": "34c5d30c",
   "metadata": {},
   "outputs": [
    {
     "data": {
      "image/png": "[encoded data removed]",
      "text/plain": [
       "<Figure size 432x288 with 1 Axes>"
      ]
     },
     "metadata": {
      "needs_background": "light"
     },
     "output_type": "display_data"
    }
   ],
   "source": [
    "# Creating a plot that shows the regression line from the model on the test set.\n",
    "# It seems the correlation is still negative and stronger!\n",
    "\n",
    "plot_test = plt\n",
    "plot_test.scatter(X_test, y_test, color='gray', s = 15)\n",
    "plot_test.plot(X_test, y_predicted, color='red', linewidth =3)\n",
    "plot_test.title('Number of Reviews vs Price (Test set)')\n",
    "plot_test.xlabel('Number of Reviews')\n",
    "plot_test.ylabel('Price (usd)')\n",
    "plot_test.show()"
   ]
  },
  {
   "cell_type": "code",
   "execution_count": 106,
   "id": "a02e0b39",
   "metadata": {},
   "outputs": [],
   "source": [
    "# Creating objects that contain the model summary statistics.\n",
    "\n",
    "rmse = mean_squared_error(y_test, y_predicted) \n",
    "r2 = r2_score(y_test, y_predicted) "
   ]
  },
  {
   "cell_type": "code",
   "execution_count": 107,
   "id": "0f88c614",
   "metadata": {},
   "outputs": [
    {
     "name": "stdout",
     "output_type": "stream",
     "text": [
      "Slope: [[-0.05564172]]\n",
      "Mean squared error:  2997.8433844536926\n",
      "R2 score:  0.00124851125592218\n"
     ]
    }
   ],
   "source": [
    "# Printing the model summary statistics. This is where you evaluate the performance of the model.\n",
    "\n",
    "print('Slope:' ,regression.coef_)\n",
    "print('Mean squared error: ', rmse)\n",
    "print('R2 score: ', r2)"
   ]
  },
  {
   "cell_type": "markdown",
   "id": "ec02f7de",
   "metadata": {},
   "source": [
    "### COMMENTS\n",
    "\n",
    "> ##### Here I come to the same conclusions again, therefor my hypothesis is rejected.\n",
    "\n",
    "> ##### This means that the number of reviews does not affect the price per night postively, if anything if affects it negatively. \n",
    "\n",
    "> ##### We could extrapolate that the competition is fierce and therefore hosts with more reviews put their prices a little lower than average to attract more bookings."
   ]
  }
 ],
 "metadata": {
  "kernelspec": {
   "display_name": "Python 3 (ipykernel)",
   "language": "python",
   "name": "python3"
  },
  "language_info": {
   "codemirror_mode": {
    "name": "ipython",
    "version": 3
   },
   "file_extension": ".py",
   "mimetype": "text/x-python",
   "name": "python",
   "nbconvert_exporter": "python",
   "pygments_lexer": "ipython3",
   "version": "3.9.7"
  }
 },
 "nbformat": 4,
 "nbformat_minor": 5
}
