{
 "cells": [
  {
   "cell_type": "markdown",
   "id": "f2349b0f",
   "metadata": {},
   "source": [
    "# TASK 6.6 - Sourcing & Analyzing Time Series Data"
   ]
  },
  {
   "cell_type": "markdown",
   "id": "e97c8f38",
   "metadata": {},
   "source": [
    "#### Table of Content\n",
    "\n",
    "1. Importing Libraries & Options\n",
    "2. Importing Dataframe\n",
    "3. Checking the Data\n",
    "4. Preparing the Data\n",
    "5. Creating a Line Chart\n",
    "6. Decomposing the Data\n",
    "7. Testing for Stationarity\n",
    "8. Stationarizing the Data\n",
    "9. Stationarizing the Data (second round)"
   ]
  },
  {
   "cell_type": "markdown",
   "id": "b1d10952",
   "metadata": {},
   "source": [
    "# 1. Importing Libraries & Options"
   ]
  },
  {
   "cell_type": "code",
   "execution_count": 1,
   "id": "bd1cba18",
   "metadata": {},
   "outputs": [],
   "source": [
    "import pandas as pd\n",
    "import numpy as np\n",
    "import seaborn as sns\n",
    "import matplotlib\n",
    "import matplotlib.pyplot as plt\n",
    "import statsmodels.api as sm  \n",
    "import os\n",
    "import warnings\n",
    "\n",
    "warnings.filterwarnings(\"ignore\") \n",
    "\n",
    "plt.style.use('fivethirtyeight') "
   ]
  },
  {
   "cell_type": "code",
   "execution_count": 2,
   "id": "6e769b29",
   "metadata": {},
   "outputs": [],
   "source": [
    "# Removing the max column cap\n",
    "\n",
    "pd.options.display.max_columns = None"
   ]
  },
  {
   "cell_type": "markdown",
   "id": "b0b56f73",
   "metadata": {},
   "source": [
    "# 2. Importing Dataframe"
   ]
  },
  {
   "cell_type": "code",
   "execution_count": 3,
   "id": "dd03f78f",
   "metadata": {},
   "outputs": [],
   "source": [
    "# Creating a path for main dataframe\n",
    "\n",
    "path = r'/Users/charliegehant/Dropbox/4. Career Foundry/Achievement 6 - Advanced Analytics & Dashboard Design/04-2022 Airbnb Analysis/02 Data'"
   ]
  },
  {
   "cell_type": "code",
   "execution_count": 4,
   "id": "75cdc25d",
   "metadata": {},
   "outputs": [],
   "source": [
    "# Importing dataframe\n",
    "\n",
    "df = pd.read_csv(os.path.join(path, 'Prepared Data', 'listings_clean.csv'), index_col = False)"
   ]
  },
  {
   "cell_type": "markdown",
   "id": "fb0ece3a",
   "metadata": {},
   "source": [
    "# 3. Checking the Data"
   ]
  },
  {
   "cell_type": "code",
   "execution_count": 5,
   "id": "115c3b70",
   "metadata": {},
   "outputs": [
    {
     "data": {
      "text/html": [
       "<div>\n",
       "<style scoped>\n",
       "    .dataframe tbody tr th:only-of-type {\n",
       "        vertical-align: middle;\n",
       "    }\n",
       "\n",
       "    .dataframe tbody tr th {\n",
       "        vertical-align: top;\n",
       "    }\n",
       "\n",
       "    .dataframe thead th {\n",
       "        text-align: right;\n",
       "    }\n",
       "</style>\n",
       "<table border=\"1\" class=\"dataframe\">\n",
       "  <thead>\n",
       "    <tr style=\"text-align: right;\">\n",
       "      <th></th>\n",
       "      <th>id</th>\n",
       "      <th>host_id</th>\n",
       "      <th>host_since</th>\n",
       "      <th>host_response_time</th>\n",
       "      <th>host_resp_rate_pct</th>\n",
       "      <th>host_accept_rate_pct</th>\n",
       "      <th>host_is_superhost</th>\n",
       "      <th>host_listings_count</th>\n",
       "      <th>host_has_profile_pic</th>\n",
       "      <th>host_identity_verified</th>\n",
       "      <th>neighbourhood_cleansed</th>\n",
       "      <th>latitude</th>\n",
       "      <th>longitude</th>\n",
       "      <th>property_type</th>\n",
       "      <th>room_type</th>\n",
       "      <th>accommodates</th>\n",
       "      <th>bathrooms_text</th>\n",
       "      <th>bedrooms</th>\n",
       "      <th>beds</th>\n",
       "      <th>price_usd</th>\n",
       "      <th>minimum_nights</th>\n",
       "      <th>maximum_nights</th>\n",
       "      <th>has_availability</th>\n",
       "      <th>availability_30</th>\n",
       "      <th>availability_60</th>\n",
       "      <th>availability_90</th>\n",
       "      <th>availability_365</th>\n",
       "      <th>number_of_reviews</th>\n",
       "      <th>number_of_reviews_ltm</th>\n",
       "      <th>number_of_reviews_l30d</th>\n",
       "      <th>first_review</th>\n",
       "      <th>last_review</th>\n",
       "      <th>review_scores_rating</th>\n",
       "      <th>review_scores_accuracy</th>\n",
       "      <th>review_scores_cleanliness</th>\n",
       "      <th>review_scores_checkin</th>\n",
       "      <th>review_scores_communication</th>\n",
       "      <th>review_scores_location</th>\n",
       "      <th>review_scores_value</th>\n",
       "      <th>instant_bookable</th>\n",
       "      <th>calculated_host_listings_count</th>\n",
       "      <th>calculated_host_listings_count_entire_homes</th>\n",
       "      <th>calculated_host_listings_count_private_rooms</th>\n",
       "      <th>calculated_host_listings_count_shared_rooms</th>\n",
       "      <th>reviews_per_month</th>\n",
       "    </tr>\n",
       "  </thead>\n",
       "  <tbody>\n",
       "    <tr>\n",
       "      <th>0</th>\n",
       "      <td>13913</td>\n",
       "      <td>54730</td>\n",
       "      <td>2009-11-16</td>\n",
       "      <td>within a few hours</td>\n",
       "      <td>100</td>\n",
       "      <td>85</td>\n",
       "      <td>f</td>\n",
       "      <td>3.0</td>\n",
       "      <td>t</td>\n",
       "      <td>t</td>\n",
       "      <td>Islington</td>\n",
       "      <td>51.56861</td>\n",
       "      <td>-0.11270</td>\n",
       "      <td>Private room in rental unit</td>\n",
       "      <td>Private room</td>\n",
       "      <td>2</td>\n",
       "      <td>1 shared bath</td>\n",
       "      <td>1.0</td>\n",
       "      <td>1.76</td>\n",
       "      <td>65.0</td>\n",
       "      <td>1</td>\n",
       "      <td>29</td>\n",
       "      <td>t</td>\n",
       "      <td>26</td>\n",
       "      <td>56</td>\n",
       "      <td>86</td>\n",
       "      <td>361</td>\n",
       "      <td>22</td>\n",
       "      <td>1</td>\n",
       "      <td>1</td>\n",
       "      <td>2010-08-18</td>\n",
       "      <td>2021-11-21</td>\n",
       "      <td>4.86</td>\n",
       "      <td>4.80</td>\n",
       "      <td>4.85</td>\n",
       "      <td>4.80</td>\n",
       "      <td>4.90</td>\n",
       "      <td>4.65</td>\n",
       "      <td>4.75</td>\n",
       "      <td>f</td>\n",
       "      <td>2</td>\n",
       "      <td>1</td>\n",
       "      <td>1</td>\n",
       "      <td>0</td>\n",
       "      <td>0.16</td>\n",
       "    </tr>\n",
       "    <tr>\n",
       "      <th>1</th>\n",
       "      <td>15400</td>\n",
       "      <td>60302</td>\n",
       "      <td>2009-12-05</td>\n",
       "      <td>within a day</td>\n",
       "      <td>67</td>\n",
       "      <td>50</td>\n",
       "      <td>f</td>\n",
       "      <td>1.0</td>\n",
       "      <td>t</td>\n",
       "      <td>t</td>\n",
       "      <td>Kensington and Chelsea</td>\n",
       "      <td>51.48780</td>\n",
       "      <td>-0.16813</td>\n",
       "      <td>Entire rental unit</td>\n",
       "      <td>Entire home/apt</td>\n",
       "      <td>2</td>\n",
       "      <td>1 bath</td>\n",
       "      <td>1.0</td>\n",
       "      <td>1.00</td>\n",
       "      <td>75.0</td>\n",
       "      <td>3</td>\n",
       "      <td>50</td>\n",
       "      <td>t</td>\n",
       "      <td>0</td>\n",
       "      <td>0</td>\n",
       "      <td>0</td>\n",
       "      <td>4</td>\n",
       "      <td>89</td>\n",
       "      <td>0</td>\n",
       "      <td>0</td>\n",
       "      <td>2009-12-21</td>\n",
       "      <td>2020-03-16</td>\n",
       "      <td>4.79</td>\n",
       "      <td>4.84</td>\n",
       "      <td>4.88</td>\n",
       "      <td>4.87</td>\n",
       "      <td>4.82</td>\n",
       "      <td>4.93</td>\n",
       "      <td>4.73</td>\n",
       "      <td>f</td>\n",
       "      <td>1</td>\n",
       "      <td>1</td>\n",
       "      <td>0</td>\n",
       "      <td>0</td>\n",
       "      <td>0.61</td>\n",
       "    </tr>\n",
       "    <tr>\n",
       "      <th>2</th>\n",
       "      <td>17402</td>\n",
       "      <td>67564</td>\n",
       "      <td>2010-01-04</td>\n",
       "      <td>within an hour</td>\n",
       "      <td>80</td>\n",
       "      <td>70</td>\n",
       "      <td>f</td>\n",
       "      <td>18.0</td>\n",
       "      <td>t</td>\n",
       "      <td>t</td>\n",
       "      <td>Westminster</td>\n",
       "      <td>51.52195</td>\n",
       "      <td>-0.14094</td>\n",
       "      <td>Entire rental unit</td>\n",
       "      <td>Entire home/apt</td>\n",
       "      <td>6</td>\n",
       "      <td>2 baths</td>\n",
       "      <td>3.0</td>\n",
       "      <td>3.00</td>\n",
       "      <td>265.0</td>\n",
       "      <td>4</td>\n",
       "      <td>365</td>\n",
       "      <td>t</td>\n",
       "      <td>4</td>\n",
       "      <td>34</td>\n",
       "      <td>60</td>\n",
       "      <td>295</td>\n",
       "      <td>43</td>\n",
       "      <td>1</td>\n",
       "      <td>0</td>\n",
       "      <td>2011-03-21</td>\n",
       "      <td>2021-06-28</td>\n",
       "      <td>4.69</td>\n",
       "      <td>4.80</td>\n",
       "      <td>4.68</td>\n",
       "      <td>4.66</td>\n",
       "      <td>4.66</td>\n",
       "      <td>4.85</td>\n",
       "      <td>4.59</td>\n",
       "      <td>f</td>\n",
       "      <td>1</td>\n",
       "      <td>1</td>\n",
       "      <td>0</td>\n",
       "      <td>0</td>\n",
       "      <td>0.33</td>\n",
       "    </tr>\n",
       "    <tr>\n",
       "      <th>3</th>\n",
       "      <td>17506</td>\n",
       "      <td>67915</td>\n",
       "      <td>2010-01-05</td>\n",
       "      <td>Unknown</td>\n",
       "      <td>89</td>\n",
       "      <td>75</td>\n",
       "      <td>f</td>\n",
       "      <td>3.0</td>\n",
       "      <td>t</td>\n",
       "      <td>t</td>\n",
       "      <td>Hammersmith and Fulham</td>\n",
       "      <td>51.47935</td>\n",
       "      <td>-0.19743</td>\n",
       "      <td>Private room in townhouse</td>\n",
       "      <td>Private room</td>\n",
       "      <td>2</td>\n",
       "      <td>1 private bath</td>\n",
       "      <td>1.0</td>\n",
       "      <td>1.00</td>\n",
       "      <td>150.0</td>\n",
       "      <td>3</td>\n",
       "      <td>21</td>\n",
       "      <td>t</td>\n",
       "      <td>29</td>\n",
       "      <td>59</td>\n",
       "      <td>89</td>\n",
       "      <td>364</td>\n",
       "      <td>0</td>\n",
       "      <td>0</td>\n",
       "      <td>0</td>\n",
       "      <td>1900-01-01</td>\n",
       "      <td>1900-01-01</td>\n",
       "      <td>4.54</td>\n",
       "      <td>4.73</td>\n",
       "      <td>4.62</td>\n",
       "      <td>4.79</td>\n",
       "      <td>4.80</td>\n",
       "      <td>4.75</td>\n",
       "      <td>4.64</td>\n",
       "      <td>f</td>\n",
       "      <td>2</td>\n",
       "      <td>0</td>\n",
       "      <td>2</td>\n",
       "      <td>0</td>\n",
       "      <td>4.64</td>\n",
       "    </tr>\n",
       "    <tr>\n",
       "      <th>4</th>\n",
       "      <td>25123</td>\n",
       "      <td>103583</td>\n",
       "      <td>2010-04-05</td>\n",
       "      <td>Unknown</td>\n",
       "      <td>89</td>\n",
       "      <td>75</td>\n",
       "      <td>f</td>\n",
       "      <td>3.0</td>\n",
       "      <td>t</td>\n",
       "      <td>t</td>\n",
       "      <td>Barnet</td>\n",
       "      <td>51.57438</td>\n",
       "      <td>-0.21081</td>\n",
       "      <td>Private room in residential home</td>\n",
       "      <td>Private room</td>\n",
       "      <td>2</td>\n",
       "      <td>1.5 shared baths</td>\n",
       "      <td>1.0</td>\n",
       "      <td>1.76</td>\n",
       "      <td>29.0</td>\n",
       "      <td>10</td>\n",
       "      <td>1120</td>\n",
       "      <td>t</td>\n",
       "      <td>0</td>\n",
       "      <td>0</td>\n",
       "      <td>0</td>\n",
       "      <td>0</td>\n",
       "      <td>129</td>\n",
       "      <td>0</td>\n",
       "      <td>0</td>\n",
       "      <td>2010-04-14</td>\n",
       "      <td>2020-03-15</td>\n",
       "      <td>4.78</td>\n",
       "      <td>4.70</td>\n",
       "      <td>4.94</td>\n",
       "      <td>4.91</td>\n",
       "      <td>4.89</td>\n",
       "      <td>4.45</td>\n",
       "      <td>4.74</td>\n",
       "      <td>t</td>\n",
       "      <td>3</td>\n",
       "      <td>0</td>\n",
       "      <td>3</td>\n",
       "      <td>0</td>\n",
       "      <td>0.91</td>\n",
       "    </tr>\n",
       "  </tbody>\n",
       "</table>\n",
       "</div>"
      ],
      "text/plain": [
       "      id  host_id  host_since  host_response_time  host_resp_rate_pct  \\\n",
       "0  13913    54730  2009-11-16  within a few hours                 100   \n",
       "1  15400    60302  2009-12-05        within a day                  67   \n",
       "2  17402    67564  2010-01-04      within an hour                  80   \n",
       "3  17506    67915  2010-01-05             Unknown                  89   \n",
       "4  25123   103583  2010-04-05             Unknown                  89   \n",
       "\n",
       "   host_accept_rate_pct host_is_superhost  host_listings_count  \\\n",
       "0                    85                 f                  3.0   \n",
       "1                    50                 f                  1.0   \n",
       "2                    70                 f                 18.0   \n",
       "3                    75                 f                  3.0   \n",
       "4                    75                 f                  3.0   \n",
       "\n",
       "  host_has_profile_pic host_identity_verified  neighbourhood_cleansed  \\\n",
       "0                    t                      t               Islington   \n",
       "1                    t                      t  Kensington and Chelsea   \n",
       "2                    t                      t             Westminster   \n",
       "3                    t                      t  Hammersmith and Fulham   \n",
       "4                    t                      t                  Barnet   \n",
       "\n",
       "   latitude  longitude                     property_type        room_type  \\\n",
       "0  51.56861   -0.11270       Private room in rental unit     Private room   \n",
       "1  51.48780   -0.16813                Entire rental unit  Entire home/apt   \n",
       "2  51.52195   -0.14094                Entire rental unit  Entire home/apt   \n",
       "3  51.47935   -0.19743         Private room in townhouse     Private room   \n",
       "4  51.57438   -0.21081  Private room in residential home     Private room   \n",
       "\n",
       "   accommodates    bathrooms_text  bedrooms  beds  price_usd  minimum_nights  \\\n",
       "0             2     1 shared bath       1.0  1.76       65.0               1   \n",
       "1             2            1 bath       1.0  1.00       75.0               3   \n",
       "2             6           2 baths       3.0  3.00      265.0               4   \n",
       "3             2    1 private bath       1.0  1.00      150.0               3   \n",
       "4             2  1.5 shared baths       1.0  1.76       29.0              10   \n",
       "\n",
       "   maximum_nights has_availability  availability_30  availability_60  \\\n",
       "0              29                t               26               56   \n",
       "1              50                t                0                0   \n",
       "2             365                t                4               34   \n",
       "3              21                t               29               59   \n",
       "4            1120                t                0                0   \n",
       "\n",
       "   availability_90  availability_365  number_of_reviews  \\\n",
       "0               86               361                 22   \n",
       "1                0                 4                 89   \n",
       "2               60               295                 43   \n",
       "3               89               364                  0   \n",
       "4                0                 0                129   \n",
       "\n",
       "   number_of_reviews_ltm  number_of_reviews_l30d first_review last_review  \\\n",
       "0                      1                       1   2010-08-18  2021-11-21   \n",
       "1                      0                       0   2009-12-21  2020-03-16   \n",
       "2                      1                       0   2011-03-21  2021-06-28   \n",
       "3                      0                       0   1900-01-01  1900-01-01   \n",
       "4                      0                       0   2010-04-14  2020-03-15   \n",
       "\n",
       "   review_scores_rating  review_scores_accuracy  review_scores_cleanliness  \\\n",
       "0                  4.86                    4.80                       4.85   \n",
       "1                  4.79                    4.84                       4.88   \n",
       "2                  4.69                    4.80                       4.68   \n",
       "3                  4.54                    4.73                       4.62   \n",
       "4                  4.78                    4.70                       4.94   \n",
       "\n",
       "   review_scores_checkin  review_scores_communication  review_scores_location  \\\n",
       "0                   4.80                         4.90                    4.65   \n",
       "1                   4.87                         4.82                    4.93   \n",
       "2                   4.66                         4.66                    4.85   \n",
       "3                   4.79                         4.80                    4.75   \n",
       "4                   4.91                         4.89                    4.45   \n",
       "\n",
       "   review_scores_value instant_bookable  calculated_host_listings_count  \\\n",
       "0                 4.75                f                               2   \n",
       "1                 4.73                f                               1   \n",
       "2                 4.59                f                               1   \n",
       "3                 4.64                f                               2   \n",
       "4                 4.74                t                               3   \n",
       "\n",
       "   calculated_host_listings_count_entire_homes  \\\n",
       "0                                            1   \n",
       "1                                            1   \n",
       "2                                            1   \n",
       "3                                            0   \n",
       "4                                            0   \n",
       "\n",
       "   calculated_host_listings_count_private_rooms  \\\n",
       "0                                             1   \n",
       "1                                             0   \n",
       "2                                             0   \n",
       "3                                             2   \n",
       "4                                             3   \n",
       "\n",
       "   calculated_host_listings_count_shared_rooms  reviews_per_month  \n",
       "0                                            0               0.16  \n",
       "1                                            0               0.61  \n",
       "2                                            0               0.33  \n",
       "3                                            0               4.64  \n",
       "4                                            0               0.91  "
      ]
     },
     "execution_count": 5,
     "metadata": {},
     "output_type": "execute_result"
    }
   ],
   "source": [
    "df.head()"
   ]
  },
  {
   "cell_type": "code",
   "execution_count": 6,
   "id": "d7dcbeb7",
   "metadata": {},
   "outputs": [
    {
     "data": {
      "text/plain": [
       "(66582, 45)"
      ]
     },
     "execution_count": 6,
     "metadata": {},
     "output_type": "execute_result"
    }
   ],
   "source": [
    "df.shape"
   ]
  },
  {
   "cell_type": "markdown",
   "id": "7566c09d",
   "metadata": {},
   "source": [
    "### COMMENT\n",
    "\n",
    "> I would like to perform a time-series on host subscriptions to Airbnb in London. \n",
    "\n",
    "> The dataframe I am using lists \"host_since\", which means I can find out (count) how many people signed-up to be hosts on each day since 14th August 2008 and until 6th December 2021. I believe it would be interesting to explore the evolution of the platform, the number of hosts signing up to Airbnb is a key metric of the platforms popularity, since they take a fee on each rentals. \n",
    "\n",
    "> First I need to remove duplicates (through 'host_id'), then I'll be able to have a quick look at unique sign-up rates through 'host_since'\n",
    "\n",
    "> One caveat is that there hasn't been a new host signing up everyday, therefor my timeline has missing dates. To remedy this problem, I will create a new csv file with all the dates and I will merge it with my dataframe, to then be able to perform my timeseries analysis. "
   ]
  },
  {
   "cell_type": "markdown",
   "id": "23f61138",
   "metadata": {},
   "source": [
    "# 4. Preparing the Data"
   ]
  },
  {
   "cell_type": "markdown",
   "id": "b9f40539",
   "metadata": {},
   "source": [
    "### STEP 1: \n",
    "### (removing duplicates)"
   ]
  },
  {
   "cell_type": "code",
   "execution_count": 7,
   "id": "f8908718",
   "metadata": {},
   "outputs": [],
   "source": [
    "# Removing all duplicates from the 'host_id' column\n",
    "\n",
    "df_no_dups = df.drop_duplicates(subset=['host_id'])"
   ]
  },
  {
   "cell_type": "code",
   "execution_count": 8,
   "id": "33f735e6",
   "metadata": {},
   "outputs": [
    {
     "data": {
      "text/plain": [
       "(44650, 45)"
      ]
     },
     "execution_count": 8,
     "metadata": {},
     "output_type": "execute_result"
    }
   ],
   "source": [
    "# Checking the result of my query\n",
    "\n",
    "df_no_dups.shape"
   ]
  },
  {
   "cell_type": "markdown",
   "id": "2bf2501b",
   "metadata": {},
   "source": [
    "### STEP 2:\n",
    "\n",
    "### (quick look at the data)"
   ]
  },
  {
   "cell_type": "code",
   "execution_count": 9,
   "id": "eff2221e",
   "metadata": {},
   "outputs": [
    {
     "data": {
      "text/plain": [
       "2008-08-14    1\n",
       "2008-12-03    1\n",
       "2008-12-27    1\n",
       "2009-01-16    1\n",
       "2009-03-07    1\n",
       "             ..\n",
       "2021-12-01    5\n",
       "2021-12-03    1\n",
       "2021-12-04    1\n",
       "2021-12-05    1\n",
       "2021-12-06    1\n",
       "Name: host_since, Length: 4095, dtype: int64"
      ]
     },
     "execution_count": 9,
     "metadata": {},
     "output_type": "execute_result"
    }
   ],
   "source": [
    "# Looking at the variable I am interested in analysing \n",
    "# indexed so I can see the head and the tail of the data (first & last dates).\n",
    "\n",
    "df_no_dups['host_since'].value_counts().sort_index()"
   ]
  },
  {
   "cell_type": "code",
   "execution_count": 10,
   "id": "19867b65",
   "metadata": {},
   "outputs": [],
   "source": [
    "# Converting variable to date format\n",
    "\n",
    "df_no_dups['host_since'] = pd.to_datetime(df_no_dups['host_since'])"
   ]
  },
  {
   "cell_type": "code",
   "execution_count": 11,
   "id": "d9473d83",
   "metadata": {},
   "outputs": [
    {
     "data": {
      "text/plain": [
       "dtype('<M8[ns]')"
      ]
     },
     "execution_count": 11,
     "metadata": {},
     "output_type": "execute_result"
    }
   ],
   "source": [
    "df_no_dups['host_since'].dtype"
   ]
  },
  {
   "cell_type": "code",
   "execution_count": 12,
   "id": "87ecbff9",
   "metadata": {},
   "outputs": [
    {
     "data": {
      "text/plain": [
       "<AxesSubplot:>"
      ]
     },
     "execution_count": 12,
     "metadata": {},
     "output_type": "execute_result"
    },
    {
     "data": {
      "image/png": "[encoded data removed]",
      "text/plain": [
       "<Figure size 432x288 with 1 Axes>"
      ]
     },
     "metadata": {},
     "output_type": "display_data"
    }
   ],
   "source": [
    "# Having a quick look at the data through a line plot\n",
    "# I can see one outlier, for now I will do nothing with it \n",
    "\n",
    "df_no_dups['host_since'].value_counts().plot.line()"
   ]
  },
  {
   "cell_type": "code",
   "execution_count": 13,
   "id": "03172852",
   "metadata": {},
   "outputs": [
    {
     "data": {
      "text/plain": [
       "2012-03-18    76\n",
       "2015-05-19    47\n",
       "2012-03-17    43\n",
       "2015-06-14    43\n",
       "2015-06-22    42\n",
       "              ..\n",
       "2009-03-11     1\n",
       "2010-09-10     1\n",
       "2009-11-25     1\n",
       "2010-03-28     1\n",
       "2020-11-22     1\n",
       "Name: host_since, Length: 4095, dtype: int64"
      ]
     },
     "execution_count": 13,
     "metadata": {},
     "output_type": "execute_result"
    }
   ],
   "source": [
    "# Looking at the main outlier, 76 new hosts on 18th March 2012\n",
    "# Even though this number is high, it's low enough to still be plausible (e.g. result of a marketing campaign)\n",
    "# There is also another outlier the day before (17th March), 43 new hosts, which support this theory.\n",
    "\n",
    "df_no_dups['host_since'].value_counts()"
   ]
  },
  {
   "cell_type": "markdown",
   "id": "eaf180cd",
   "metadata": {},
   "source": [
    "### STEP 3: \n",
    "### (creating a subset for my timeseries)"
   ]
  },
  {
   "cell_type": "code",
   "execution_count": 14,
   "id": "dc79ed08",
   "metadata": {},
   "outputs": [],
   "source": [
    "# Preparing the modified original dataframe for timeseries analysis\n",
    "# Extracting the two columns I will need into a subset\n",
    "\n",
    "data = df_no_dups['host_since'].value_counts().sort_index()"
   ]
  },
  {
   "cell_type": "code",
   "execution_count": 15,
   "id": "87fab607",
   "metadata": {},
   "outputs": [
    {
     "data": {
      "text/plain": [
       "2008-08-14    1\n",
       "2008-12-03    1\n",
       "2008-12-27    1\n",
       "2009-01-16    1\n",
       "2009-03-07    1\n",
       "             ..\n",
       "2021-12-01    5\n",
       "2021-12-03    1\n",
       "2021-12-04    1\n",
       "2021-12-05    1\n",
       "2021-12-06    1\n",
       "Name: host_since, Length: 4095, dtype: int64"
      ]
     },
     "execution_count": 15,
     "metadata": {},
     "output_type": "execute_result"
    }
   ],
   "source": [
    "data"
   ]
  },
  {
   "cell_type": "code",
   "execution_count": 16,
   "id": "e00622f6",
   "metadata": {},
   "outputs": [],
   "source": [
    "# Resetting the index of the subset, into a new dataframe\n",
    "\n",
    "data_2 = data.reset_index()"
   ]
  },
  {
   "cell_type": "code",
   "execution_count": 17,
   "id": "7f4876aa",
   "metadata": {},
   "outputs": [
    {
     "data": {
      "text/html": [
       "<div>\n",
       "<style scoped>\n",
       "    .dataframe tbody tr th:only-of-type {\n",
       "        vertical-align: middle;\n",
       "    }\n",
       "\n",
       "    .dataframe tbody tr th {\n",
       "        vertical-align: top;\n",
       "    }\n",
       "\n",
       "    .dataframe thead th {\n",
       "        text-align: right;\n",
       "    }\n",
       "</style>\n",
       "<table border=\"1\" class=\"dataframe\">\n",
       "  <thead>\n",
       "    <tr style=\"text-align: right;\">\n",
       "      <th></th>\n",
       "      <th>index</th>\n",
       "      <th>host_since</th>\n",
       "    </tr>\n",
       "  </thead>\n",
       "  <tbody>\n",
       "    <tr>\n",
       "      <th>0</th>\n",
       "      <td>2008-08-14</td>\n",
       "      <td>1</td>\n",
       "    </tr>\n",
       "    <tr>\n",
       "      <th>1</th>\n",
       "      <td>2008-12-03</td>\n",
       "      <td>1</td>\n",
       "    </tr>\n",
       "    <tr>\n",
       "      <th>2</th>\n",
       "      <td>2008-12-27</td>\n",
       "      <td>1</td>\n",
       "    </tr>\n",
       "    <tr>\n",
       "      <th>3</th>\n",
       "      <td>2009-01-16</td>\n",
       "      <td>1</td>\n",
       "    </tr>\n",
       "    <tr>\n",
       "      <th>4</th>\n",
       "      <td>2009-03-07</td>\n",
       "      <td>1</td>\n",
       "    </tr>\n",
       "    <tr>\n",
       "      <th>...</th>\n",
       "      <td>...</td>\n",
       "      <td>...</td>\n",
       "    </tr>\n",
       "    <tr>\n",
       "      <th>4090</th>\n",
       "      <td>2021-12-01</td>\n",
       "      <td>5</td>\n",
       "    </tr>\n",
       "    <tr>\n",
       "      <th>4091</th>\n",
       "      <td>2021-12-03</td>\n",
       "      <td>1</td>\n",
       "    </tr>\n",
       "    <tr>\n",
       "      <th>4092</th>\n",
       "      <td>2021-12-04</td>\n",
       "      <td>1</td>\n",
       "    </tr>\n",
       "    <tr>\n",
       "      <th>4093</th>\n",
       "      <td>2021-12-05</td>\n",
       "      <td>1</td>\n",
       "    </tr>\n",
       "    <tr>\n",
       "      <th>4094</th>\n",
       "      <td>2021-12-06</td>\n",
       "      <td>1</td>\n",
       "    </tr>\n",
       "  </tbody>\n",
       "</table>\n",
       "<p>4095 rows × 2 columns</p>\n",
       "</div>"
      ],
      "text/plain": [
       "          index  host_since\n",
       "0    2008-08-14           1\n",
       "1    2008-12-03           1\n",
       "2    2008-12-27           1\n",
       "3    2009-01-16           1\n",
       "4    2009-03-07           1\n",
       "...         ...         ...\n",
       "4090 2021-12-01           5\n",
       "4091 2021-12-03           1\n",
       "4092 2021-12-04           1\n",
       "4093 2021-12-05           1\n",
       "4094 2021-12-06           1\n",
       "\n",
       "[4095 rows x 2 columns]"
      ]
     },
     "execution_count": 17,
     "metadata": {},
     "output_type": "execute_result"
    }
   ],
   "source": [
    "# Checking the data\n",
    "\n",
    "data_2 "
   ]
  },
  {
   "cell_type": "code",
   "execution_count": 18,
   "id": "b530307c",
   "metadata": {},
   "outputs": [],
   "source": [
    "# Renaming the column of my new dataframe\n",
    "\n",
    "data_2.rename(columns = {'index' : 'date', 'host_since' : 'count_of_host'}, inplace = True)"
   ]
  },
  {
   "cell_type": "code",
   "execution_count": 19,
   "id": "ea01c2f8",
   "metadata": {},
   "outputs": [
    {
     "data": {
      "text/html": [
       "<div>\n",
       "<style scoped>\n",
       "    .dataframe tbody tr th:only-of-type {\n",
       "        vertical-align: middle;\n",
       "    }\n",
       "\n",
       "    .dataframe tbody tr th {\n",
       "        vertical-align: top;\n",
       "    }\n",
       "\n",
       "    .dataframe thead th {\n",
       "        text-align: right;\n",
       "    }\n",
       "</style>\n",
       "<table border=\"1\" class=\"dataframe\">\n",
       "  <thead>\n",
       "    <tr style=\"text-align: right;\">\n",
       "      <th></th>\n",
       "      <th>date</th>\n",
       "      <th>count_of_host</th>\n",
       "    </tr>\n",
       "  </thead>\n",
       "  <tbody>\n",
       "    <tr>\n",
       "      <th>0</th>\n",
       "      <td>2008-08-14</td>\n",
       "      <td>1</td>\n",
       "    </tr>\n",
       "    <tr>\n",
       "      <th>1</th>\n",
       "      <td>2008-12-03</td>\n",
       "      <td>1</td>\n",
       "    </tr>\n",
       "    <tr>\n",
       "      <th>2</th>\n",
       "      <td>2008-12-27</td>\n",
       "      <td>1</td>\n",
       "    </tr>\n",
       "    <tr>\n",
       "      <th>3</th>\n",
       "      <td>2009-01-16</td>\n",
       "      <td>1</td>\n",
       "    </tr>\n",
       "    <tr>\n",
       "      <th>4</th>\n",
       "      <td>2009-03-07</td>\n",
       "      <td>1</td>\n",
       "    </tr>\n",
       "    <tr>\n",
       "      <th>...</th>\n",
       "      <td>...</td>\n",
       "      <td>...</td>\n",
       "    </tr>\n",
       "    <tr>\n",
       "      <th>4090</th>\n",
       "      <td>2021-12-01</td>\n",
       "      <td>5</td>\n",
       "    </tr>\n",
       "    <tr>\n",
       "      <th>4091</th>\n",
       "      <td>2021-12-03</td>\n",
       "      <td>1</td>\n",
       "    </tr>\n",
       "    <tr>\n",
       "      <th>4092</th>\n",
       "      <td>2021-12-04</td>\n",
       "      <td>1</td>\n",
       "    </tr>\n",
       "    <tr>\n",
       "      <th>4093</th>\n",
       "      <td>2021-12-05</td>\n",
       "      <td>1</td>\n",
       "    </tr>\n",
       "    <tr>\n",
       "      <th>4094</th>\n",
       "      <td>2021-12-06</td>\n",
       "      <td>1</td>\n",
       "    </tr>\n",
       "  </tbody>\n",
       "</table>\n",
       "<p>4095 rows × 2 columns</p>\n",
       "</div>"
      ],
      "text/plain": [
       "           date  count_of_host\n",
       "0    2008-08-14              1\n",
       "1    2008-12-03              1\n",
       "2    2008-12-27              1\n",
       "3    2009-01-16              1\n",
       "4    2009-03-07              1\n",
       "...         ...            ...\n",
       "4090 2021-12-01              5\n",
       "4091 2021-12-03              1\n",
       "4092 2021-12-04              1\n",
       "4093 2021-12-05              1\n",
       "4094 2021-12-06              1\n",
       "\n",
       "[4095 rows x 2 columns]"
      ]
     },
     "execution_count": 19,
     "metadata": {},
     "output_type": "execute_result"
    }
   ],
   "source": [
    "# Checking the data, my dataframe is almost ready to use\n",
    "\n",
    "data_2"
   ]
  },
  {
   "cell_type": "code",
   "execution_count": 20,
   "id": "dffca299",
   "metadata": {},
   "outputs": [
    {
     "data": {
      "text/plain": [
       "date             datetime64[ns]\n",
       "count_of_host             int64\n",
       "dtype: object"
      ]
     },
     "execution_count": 20,
     "metadata": {},
     "output_type": "execute_result"
    }
   ],
   "source": [
    "data_2.dtypes"
   ]
  },
  {
   "cell_type": "markdown",
   "id": "8974acee",
   "metadata": {},
   "source": [
    "### STEP 4: \n",
    "### (importing new csv file to merge with subset)"
   ]
  },
  {
   "cell_type": "markdown",
   "id": "bca74438",
   "metadata": {},
   "source": [
    "> Here I will import a new dataframe, to merge with the one I just created.\n",
    "\n",
    "> I created this new dataframe in Excel, it contains two columns; 'date', with all unique dates from 2008-08-14 until 2021-12-06 and 'count_of_host' with 0 in all rows. \n",
    "\n",
    "> <i> Please note: I decided to do this in Excel because I knew how to do it quickly and efficiently. "
   ]
  },
  {
   "cell_type": "code",
   "execution_count": 21,
   "id": "22ee2e3f",
   "metadata": {},
   "outputs": [],
   "source": [
    "# Converting the Excel file I created into a csv file, ready to import and merge\n",
    "\n",
    "read_file = pd.read_excel (r'/Users/charliegehant/Dropbox/4. Career Foundry/Achievement 6 - Advanced Analytics & Dashboard Design/04-2022 Airbnb Analysis/02 Data/Original Data/dates_airbnb_timeseries.xlsx')\n",
    "read_file.to_csv (r'/Users/charliegehant/Dropbox/4. Career Foundry/Achievement 6 - Advanced Analytics & Dashboard Design/04-2022 Airbnb Analysis/02 Data/Original Data/dates_airbnb_timeseries.csv', index = None, header=True)"
   ]
  },
  {
   "cell_type": "code",
   "execution_count": 22,
   "id": "70815079",
   "metadata": {},
   "outputs": [],
   "source": [
    "# Importing the new csv file\n",
    "\n",
    "df_dates = pd.read_csv(os.path.join(path, 'Original Data', 'dates_airbnb_timeseries.csv'), index_col = False)"
   ]
  },
  {
   "cell_type": "code",
   "execution_count": 23,
   "id": "f7686983",
   "metadata": {},
   "outputs": [
    {
     "data": {
      "text/html": [
       "<div>\n",
       "<style scoped>\n",
       "    .dataframe tbody tr th:only-of-type {\n",
       "        vertical-align: middle;\n",
       "    }\n",
       "\n",
       "    .dataframe tbody tr th {\n",
       "        vertical-align: top;\n",
       "    }\n",
       "\n",
       "    .dataframe thead th {\n",
       "        text-align: right;\n",
       "    }\n",
       "</style>\n",
       "<table border=\"1\" class=\"dataframe\">\n",
       "  <thead>\n",
       "    <tr style=\"text-align: right;\">\n",
       "      <th></th>\n",
       "      <th>date</th>\n",
       "      <th>count_of_host</th>\n",
       "    </tr>\n",
       "  </thead>\n",
       "  <tbody>\n",
       "    <tr>\n",
       "      <th>0</th>\n",
       "      <td>2008-08-14</td>\n",
       "      <td>0</td>\n",
       "    </tr>\n",
       "    <tr>\n",
       "      <th>1</th>\n",
       "      <td>2008-08-15</td>\n",
       "      <td>0</td>\n",
       "    </tr>\n",
       "    <tr>\n",
       "      <th>2</th>\n",
       "      <td>2008-08-16</td>\n",
       "      <td>0</td>\n",
       "    </tr>\n",
       "    <tr>\n",
       "      <th>3</th>\n",
       "      <td>2008-08-17</td>\n",
       "      <td>0</td>\n",
       "    </tr>\n",
       "    <tr>\n",
       "      <th>4</th>\n",
       "      <td>2008-08-18</td>\n",
       "      <td>0</td>\n",
       "    </tr>\n",
       "    <tr>\n",
       "      <th>...</th>\n",
       "      <td>...</td>\n",
       "      <td>...</td>\n",
       "    </tr>\n",
       "    <tr>\n",
       "      <th>4858</th>\n",
       "      <td>2021-12-02</td>\n",
       "      <td>0</td>\n",
       "    </tr>\n",
       "    <tr>\n",
       "      <th>4859</th>\n",
       "      <td>2021-12-03</td>\n",
       "      <td>0</td>\n",
       "    </tr>\n",
       "    <tr>\n",
       "      <th>4860</th>\n",
       "      <td>2021-12-04</td>\n",
       "      <td>0</td>\n",
       "    </tr>\n",
       "    <tr>\n",
       "      <th>4861</th>\n",
       "      <td>2021-12-05</td>\n",
       "      <td>0</td>\n",
       "    </tr>\n",
       "    <tr>\n",
       "      <th>4862</th>\n",
       "      <td>2021-12-06</td>\n",
       "      <td>0</td>\n",
       "    </tr>\n",
       "  </tbody>\n",
       "</table>\n",
       "<p>4863 rows × 2 columns</p>\n",
       "</div>"
      ],
      "text/plain": [
       "            date  count_of_host\n",
       "0     2008-08-14              0\n",
       "1     2008-08-15              0\n",
       "2     2008-08-16              0\n",
       "3     2008-08-17              0\n",
       "4     2008-08-18              0\n",
       "...          ...            ...\n",
       "4858  2021-12-02              0\n",
       "4859  2021-12-03              0\n",
       "4860  2021-12-04              0\n",
       "4861  2021-12-05              0\n",
       "4862  2021-12-06              0\n",
       "\n",
       "[4863 rows x 2 columns]"
      ]
     },
     "execution_count": 23,
     "metadata": {},
     "output_type": "execute_result"
    }
   ],
   "source": [
    "# Checking the data\n",
    "\n",
    "df_dates"
   ]
  },
  {
   "cell_type": "code",
   "execution_count": 24,
   "id": "bd6c436f",
   "metadata": {},
   "outputs": [
    {
     "data": {
      "text/plain": [
       "date             object\n",
       "count_of_host     int64\n",
       "dtype: object"
      ]
     },
     "execution_count": 24,
     "metadata": {},
     "output_type": "execute_result"
    }
   ],
   "source": [
    "df_dates.dtypes"
   ]
  },
  {
   "cell_type": "code",
   "execution_count": 25,
   "id": "316cf932",
   "metadata": {},
   "outputs": [],
   "source": [
    "# Converting variable to date format\n",
    "\n",
    "df_dates['date'] = pd.to_datetime(df_dates['date'])"
   ]
  },
  {
   "cell_type": "code",
   "execution_count": 26,
   "id": "2dbe3477",
   "metadata": {},
   "outputs": [
    {
     "data": {
      "text/plain": [
       "date             datetime64[ns]\n",
       "count_of_host             int64\n",
       "dtype: object"
      ]
     },
     "execution_count": 26,
     "metadata": {},
     "output_type": "execute_result"
    }
   ],
   "source": [
    "df_dates.dtypes"
   ]
  },
  {
   "cell_type": "markdown",
   "id": "ac1ebd22",
   "metadata": {},
   "source": [
    "### STEP 5:\n",
    "\n",
    "### (merging the dataframes)"
   ]
  },
  {
   "cell_type": "code",
   "execution_count": 27,
   "id": "c35f63ac",
   "metadata": {},
   "outputs": [],
   "source": [
    "# Merging the dataframes\n",
    "\n",
    "df_merged = df_dates.merge(data_2, on = 'date', indicator = True, how = 'left')"
   ]
  },
  {
   "cell_type": "code",
   "execution_count": 28,
   "id": "7797594a",
   "metadata": {},
   "outputs": [
    {
     "data": {
      "text/html": [
       "<div>\n",
       "<style scoped>\n",
       "    .dataframe tbody tr th:only-of-type {\n",
       "        vertical-align: middle;\n",
       "    }\n",
       "\n",
       "    .dataframe tbody tr th {\n",
       "        vertical-align: top;\n",
       "    }\n",
       "\n",
       "    .dataframe thead th {\n",
       "        text-align: right;\n",
       "    }\n",
       "</style>\n",
       "<table border=\"1\" class=\"dataframe\">\n",
       "  <thead>\n",
       "    <tr style=\"text-align: right;\">\n",
       "      <th></th>\n",
       "      <th>date</th>\n",
       "      <th>count_of_host_x</th>\n",
       "      <th>count_of_host_y</th>\n",
       "      <th>_merge</th>\n",
       "    </tr>\n",
       "  </thead>\n",
       "  <tbody>\n",
       "    <tr>\n",
       "      <th>0</th>\n",
       "      <td>2008-08-14</td>\n",
       "      <td>0</td>\n",
       "      <td>1.0</td>\n",
       "      <td>both</td>\n",
       "    </tr>\n",
       "    <tr>\n",
       "      <th>1</th>\n",
       "      <td>2008-08-15</td>\n",
       "      <td>0</td>\n",
       "      <td>NaN</td>\n",
       "      <td>left_only</td>\n",
       "    </tr>\n",
       "    <tr>\n",
       "      <th>2</th>\n",
       "      <td>2008-08-16</td>\n",
       "      <td>0</td>\n",
       "      <td>NaN</td>\n",
       "      <td>left_only</td>\n",
       "    </tr>\n",
       "    <tr>\n",
       "      <th>3</th>\n",
       "      <td>2008-08-17</td>\n",
       "      <td>0</td>\n",
       "      <td>NaN</td>\n",
       "      <td>left_only</td>\n",
       "    </tr>\n",
       "    <tr>\n",
       "      <th>4</th>\n",
       "      <td>2008-08-18</td>\n",
       "      <td>0</td>\n",
       "      <td>NaN</td>\n",
       "      <td>left_only</td>\n",
       "    </tr>\n",
       "    <tr>\n",
       "      <th>...</th>\n",
       "      <td>...</td>\n",
       "      <td>...</td>\n",
       "      <td>...</td>\n",
       "      <td>...</td>\n",
       "    </tr>\n",
       "    <tr>\n",
       "      <th>4858</th>\n",
       "      <td>2021-12-02</td>\n",
       "      <td>0</td>\n",
       "      <td>NaN</td>\n",
       "      <td>left_only</td>\n",
       "    </tr>\n",
       "    <tr>\n",
       "      <th>4859</th>\n",
       "      <td>2021-12-03</td>\n",
       "      <td>0</td>\n",
       "      <td>1.0</td>\n",
       "      <td>both</td>\n",
       "    </tr>\n",
       "    <tr>\n",
       "      <th>4860</th>\n",
       "      <td>2021-12-04</td>\n",
       "      <td>0</td>\n",
       "      <td>1.0</td>\n",
       "      <td>both</td>\n",
       "    </tr>\n",
       "    <tr>\n",
       "      <th>4861</th>\n",
       "      <td>2021-12-05</td>\n",
       "      <td>0</td>\n",
       "      <td>1.0</td>\n",
       "      <td>both</td>\n",
       "    </tr>\n",
       "    <tr>\n",
       "      <th>4862</th>\n",
       "      <td>2021-12-06</td>\n",
       "      <td>0</td>\n",
       "      <td>1.0</td>\n",
       "      <td>both</td>\n",
       "    </tr>\n",
       "  </tbody>\n",
       "</table>\n",
       "<p>4863 rows × 4 columns</p>\n",
       "</div>"
      ],
      "text/plain": [
       "           date  count_of_host_x  count_of_host_y     _merge\n",
       "0    2008-08-14                0              1.0       both\n",
       "1    2008-08-15                0              NaN  left_only\n",
       "2    2008-08-16                0              NaN  left_only\n",
       "3    2008-08-17                0              NaN  left_only\n",
       "4    2008-08-18                0              NaN  left_only\n",
       "...         ...              ...              ...        ...\n",
       "4858 2021-12-02                0              NaN  left_only\n",
       "4859 2021-12-03                0              1.0       both\n",
       "4860 2021-12-04                0              1.0       both\n",
       "4861 2021-12-05                0              1.0       both\n",
       "4862 2021-12-06                0              1.0       both\n",
       "\n",
       "[4863 rows x 4 columns]"
      ]
     },
     "execution_count": 28,
     "metadata": {},
     "output_type": "execute_result"
    }
   ],
   "source": [
    "# It worked as expected \n",
    "# (although I realise now I did not need the extra count_of_host column, it's an easy fix)\n",
    "\n",
    "df_merged"
   ]
  },
  {
   "cell_type": "code",
   "execution_count": 29,
   "id": "4a093fba",
   "metadata": {},
   "outputs": [],
   "source": [
    "# Dropping the columns I don't need\n",
    "\n",
    "df_merged_1 = df_merged.drop(columns = ['count_of_host_x', '_merge'])"
   ]
  },
  {
   "cell_type": "code",
   "execution_count": 30,
   "id": "60775e57",
   "metadata": {},
   "outputs": [],
   "source": [
    "# Renaming the column \"count_of_host_y\"\n",
    "\n",
    "df_merged_1.rename(columns = {'count_of_host_y' : 'count_of_host'}, inplace = True)"
   ]
  },
  {
   "cell_type": "code",
   "execution_count": 31,
   "id": "eb5a50a6",
   "metadata": {},
   "outputs": [],
   "source": [
    "# Replacing NaN values with 0\n",
    "\n",
    "df_merged_1['count_of_host'].fillna(0, inplace=True)"
   ]
  },
  {
   "cell_type": "code",
   "execution_count": 32,
   "id": "02f67757",
   "metadata": {},
   "outputs": [
    {
     "data": {
      "text/html": [
       "<div>\n",
       "<style scoped>\n",
       "    .dataframe tbody tr th:only-of-type {\n",
       "        vertical-align: middle;\n",
       "    }\n",
       "\n",
       "    .dataframe tbody tr th {\n",
       "        vertical-align: top;\n",
       "    }\n",
       "\n",
       "    .dataframe thead th {\n",
       "        text-align: right;\n",
       "    }\n",
       "</style>\n",
       "<table border=\"1\" class=\"dataframe\">\n",
       "  <thead>\n",
       "    <tr style=\"text-align: right;\">\n",
       "      <th></th>\n",
       "      <th>date</th>\n",
       "      <th>count_of_host</th>\n",
       "    </tr>\n",
       "  </thead>\n",
       "  <tbody>\n",
       "    <tr>\n",
       "      <th>0</th>\n",
       "      <td>2008-08-14</td>\n",
       "      <td>1.0</td>\n",
       "    </tr>\n",
       "    <tr>\n",
       "      <th>1</th>\n",
       "      <td>2008-08-15</td>\n",
       "      <td>0.0</td>\n",
       "    </tr>\n",
       "    <tr>\n",
       "      <th>2</th>\n",
       "      <td>2008-08-16</td>\n",
       "      <td>0.0</td>\n",
       "    </tr>\n",
       "    <tr>\n",
       "      <th>3</th>\n",
       "      <td>2008-08-17</td>\n",
       "      <td>0.0</td>\n",
       "    </tr>\n",
       "    <tr>\n",
       "      <th>4</th>\n",
       "      <td>2008-08-18</td>\n",
       "      <td>0.0</td>\n",
       "    </tr>\n",
       "  </tbody>\n",
       "</table>\n",
       "</div>"
      ],
      "text/plain": [
       "        date  count_of_host\n",
       "0 2008-08-14            1.0\n",
       "1 2008-08-15            0.0\n",
       "2 2008-08-16            0.0\n",
       "3 2008-08-17            0.0\n",
       "4 2008-08-18            0.0"
      ]
     },
     "execution_count": 32,
     "metadata": {},
     "output_type": "execute_result"
    }
   ],
   "source": [
    "# Checking the data (it all worked as expected)\n",
    "\n",
    "df_merged_1.head()"
   ]
  },
  {
   "cell_type": "code",
   "execution_count": 33,
   "id": "9fc1f116",
   "metadata": {},
   "outputs": [
    {
     "data": {
      "text/plain": [
       "44650.0"
      ]
     },
     "execution_count": 33,
     "metadata": {},
     "output_type": "execute_result"
    }
   ],
   "source": [
    "# Checking the data (it all worked as expected)\n",
    "\n",
    "df_merged_1['count_of_host'].sum()"
   ]
  },
  {
   "cell_type": "markdown",
   "id": "107171fa",
   "metadata": {},
   "source": [
    "# 5. Creating a Line Chart"
   ]
  },
  {
   "cell_type": "code",
   "execution_count": 34,
   "id": "880bc7f0",
   "metadata": {},
   "outputs": [
    {
     "data": {
      "text/html": [
       "<div>\n",
       "<style scoped>\n",
       "    .dataframe tbody tr th:only-of-type {\n",
       "        vertical-align: middle;\n",
       "    }\n",
       "\n",
       "    .dataframe tbody tr th {\n",
       "        vertical-align: top;\n",
       "    }\n",
       "\n",
       "    .dataframe thead th {\n",
       "        text-align: right;\n",
       "    }\n",
       "</style>\n",
       "<table border=\"1\" class=\"dataframe\">\n",
       "  <thead>\n",
       "    <tr style=\"text-align: right;\">\n",
       "      <th></th>\n",
       "      <th>count_of_host</th>\n",
       "    </tr>\n",
       "    <tr>\n",
       "      <th>datetime</th>\n",
       "      <th></th>\n",
       "    </tr>\n",
       "  </thead>\n",
       "  <tbody>\n",
       "    <tr>\n",
       "      <th>2008-08-14</th>\n",
       "      <td>1.0</td>\n",
       "    </tr>\n",
       "    <tr>\n",
       "      <th>2008-08-15</th>\n",
       "      <td>0.0</td>\n",
       "    </tr>\n",
       "    <tr>\n",
       "      <th>2008-08-16</th>\n",
       "      <td>0.0</td>\n",
       "    </tr>\n",
       "    <tr>\n",
       "      <th>2008-08-17</th>\n",
       "      <td>0.0</td>\n",
       "    </tr>\n",
       "    <tr>\n",
       "      <th>2008-08-18</th>\n",
       "      <td>0.0</td>\n",
       "    </tr>\n",
       "  </tbody>\n",
       "</table>\n",
       "</div>"
      ],
      "text/plain": [
       "            count_of_host\n",
       "datetime                 \n",
       "2008-08-14            1.0\n",
       "2008-08-15            0.0\n",
       "2008-08-16            0.0\n",
       "2008-08-17            0.0\n",
       "2008-08-18            0.0"
      ]
     },
     "execution_count": 34,
     "metadata": {},
     "output_type": "execute_result"
    }
   ],
   "source": [
    "# Setting the \"Date\" column as the index\n",
    "\n",
    "from datetime import datetime\n",
    "\n",
    "df_merged_1['datetime'] = pd.to_datetime(df_merged_1['date']) \n",
    "df_merged_1 = df_merged_1.set_index('datetime') \n",
    "df_merged_1.drop(['date'], axis=1, inplace=True) \n",
    "df_merged_1.head()"
   ]
  },
  {
   "cell_type": "code",
   "execution_count": 35,
   "id": "93b107cd",
   "metadata": {},
   "outputs": [
    {
     "data": {
      "text/plain": [
       "[<matplotlib.lines.Line2D at 0x7fbc5c18de20>]"
      ]
     },
     "execution_count": 35,
     "metadata": {},
     "output_type": "execute_result"
    },
    {
     "data": {
      "image/png": "[encoded data removed]",
      "text/plain": [
       "<Figure size 1500x500 with 1 Axes>"
      ]
     },
     "metadata": {},
     "output_type": "display_data"
    }
   ],
   "source": [
    "# Plotting the data using matplotlib.\n",
    "\n",
    "plt.figure(figsize=(15,5), dpi=100) \n",
    "plt.plot(df_merged_1)"
   ]
  },
  {
   "cell_type": "markdown",
   "id": "74984ae9",
   "metadata": {},
   "source": [
    "# 6. Decomposing the Data"
   ]
  },
  {
   "cell_type": "code",
   "execution_count": 36,
   "id": "78f3f277",
   "metadata": {},
   "outputs": [],
   "source": [
    "# Decomposing the time series using an additive model\n",
    "\n",
    "decomposition = sm.tsa.seasonal_decompose(df_merged_1, model='additive')"
   ]
  },
  {
   "cell_type": "code",
   "execution_count": 37,
   "id": "bd4daa39",
   "metadata": {},
   "outputs": [],
   "source": [
    "# Defining a fixed size for all special charts.\n",
    "\n",
    "from pylab import rcParams \n",
    "\n",
    "rcParams['figure.figsize'] = 18, 7"
   ]
  },
  {
   "cell_type": "code",
   "execution_count": 38,
   "id": "a7e5b6d8",
   "metadata": {},
   "outputs": [
    {
     "data": {
      "image/png": "[encoded data removed]",
      "text/plain": [
       "<Figure size 1296x504 with 4 Axes>"
      ]
     },
     "metadata": {},
     "output_type": "display_data"
    }
   ],
   "source": [
    "# Plotting the separate components\n",
    "\n",
    "decomposition.plot()\n",
    "plt.show()"
   ]
  },
  {
   "cell_type": "markdown",
   "id": "27afabf7",
   "metadata": {},
   "source": [
    "### COMMENTS: \n",
    "\n",
    "> Here I have a clearer view of the trend. \n",
    "\n",
    "> The seasonality is surprising, does it mean there is no seasonality?\n",
    "\n",
    "> Finally 'resid' showcases the noise, as expected the outliers show up here. \n"
   ]
  },
  {
   "cell_type": "markdown",
   "id": "7718aa17",
   "metadata": {},
   "source": [
    "# 7. Testing for Stationarity"
   ]
  },
  {
   "cell_type": "code",
   "execution_count": 39,
   "id": "d1b8ee7a",
   "metadata": {},
   "outputs": [
    {
     "name": "stdout",
     "output_type": "stream",
     "text": [
      "Dickey-Fuller Stationarity test:\n",
      "Test Statistic                   -1.804531\n",
      "p-value                           0.378214\n",
      "Number of Lags Used              29.000000\n",
      "Number of Observations Used    4833.000000\n",
      "Critical Value (1%)              -3.431704\n",
      "Critical Value (5%)              -2.862138\n",
      "Critical Value (10%)             -2.567088\n",
      "dtype: float64\n"
     ]
    }
   ],
   "source": [
    "from statsmodels.tsa.stattools import adfuller \n",
    "\n",
    "def dickey_fuller(timeseries): \n",
    "    print ('Dickey-Fuller Stationarity test:')\n",
    "    test = adfuller(timeseries, autolag='AIC')\n",
    "    result = pd.Series(test[0:4], index=['Test Statistic','p-value','Number of Lags Used','Number of Observations Used'])\n",
    "    for key,value in test[4].items():\n",
    "       result['Critical Value (%s)'%key] = value\n",
    "    print (result)\n",
    "\n",
    "dickey_fuller(df_merged_1['count_of_host'])"
   ]
  },
  {
   "cell_type": "markdown",
   "id": "47a7cfb3",
   "metadata": {},
   "source": [
    "### COMMENT: \n",
    "\n",
    "> The test statistic (-1.80) is larger than the critical value 5% (-2.86), this mean I can’t reject null hypothesis.\n",
    "\n",
    "> This means that there is a unit root in the data, and the data is non-stationary (as expected). "
   ]
  },
  {
   "cell_type": "code",
   "execution_count": 40,
   "id": "f3f04fad",
   "metadata": {},
   "outputs": [
    {
     "data": {
      "image/png": "[encoded data removed]",
      "text/plain": [
       "<Figure size 1296x504 with 1 Axes>"
      ]
     },
     "metadata": {},
     "output_type": "display_data"
    }
   ],
   "source": [
    "# Checking out a plot of autocorrelations\n",
    "\n",
    "from statsmodels.graphics.tsaplots import plot_acf, plot_pacf \n",
    "\n",
    "plot_acf(df_merged_1)\n",
    "plt.show()"
   ]
  },
  {
   "cell_type": "markdown",
   "id": "22a0c59b",
   "metadata": {},
   "source": [
    "### COMMENT: \n",
    "\n",
    "> The vertical lines represent the lags in the series, while the blue area represents the confidence interval. Because the lines go above the blue edge of the confidence interval, this means I have lags that are significantly correlated with each other. And because there are many lags beyond this interval, I can deduce that the data is non-stationary. This means that here there’s a lot of autocorrelated data and the set is likely non-stationary, which supports the result of the Dickey-Fuller test."
   ]
  },
  {
   "cell_type": "markdown",
   "id": "ff8e16b4",
   "metadata": {},
   "source": [
    "# 8. Stationarizing the Data"
   ]
  },
  {
   "cell_type": "code",
   "execution_count": 41,
   "id": "4cb6076e",
   "metadata": {},
   "outputs": [],
   "source": [
    "# The df.shift(1) function turns the observation to t-1, making the whole thing t - (t -1)\n",
    "\n",
    "data_diff = df_merged_1 - df_merged_1.shift(1) "
   ]
  },
  {
   "cell_type": "code",
   "execution_count": 42,
   "id": "b985d475",
   "metadata": {},
   "outputs": [],
   "source": [
    "# Here, I remove the missing values that came about as a result of the differencing. \n",
    "\n",
    "data_diff.dropna(inplace = True) "
   ]
  },
  {
   "cell_type": "code",
   "execution_count": 43,
   "id": "6411d2c2",
   "metadata": {},
   "outputs": [
    {
     "data": {
      "text/html": [
       "<div>\n",
       "<style scoped>\n",
       "    .dataframe tbody tr th:only-of-type {\n",
       "        vertical-align: middle;\n",
       "    }\n",
       "\n",
       "    .dataframe tbody tr th {\n",
       "        vertical-align: top;\n",
       "    }\n",
       "\n",
       "    .dataframe thead th {\n",
       "        text-align: right;\n",
       "    }\n",
       "</style>\n",
       "<table border=\"1\" class=\"dataframe\">\n",
       "  <thead>\n",
       "    <tr style=\"text-align: right;\">\n",
       "      <th></th>\n",
       "      <th>count_of_host</th>\n",
       "    </tr>\n",
       "    <tr>\n",
       "      <th>datetime</th>\n",
       "      <th></th>\n",
       "    </tr>\n",
       "  </thead>\n",
       "  <tbody>\n",
       "    <tr>\n",
       "      <th>2008-08-15</th>\n",
       "      <td>-1.0</td>\n",
       "    </tr>\n",
       "    <tr>\n",
       "      <th>2008-08-16</th>\n",
       "      <td>0.0</td>\n",
       "    </tr>\n",
       "    <tr>\n",
       "      <th>2008-08-17</th>\n",
       "      <td>0.0</td>\n",
       "    </tr>\n",
       "    <tr>\n",
       "      <th>2008-08-18</th>\n",
       "      <td>0.0</td>\n",
       "    </tr>\n",
       "    <tr>\n",
       "      <th>2008-08-19</th>\n",
       "      <td>0.0</td>\n",
       "    </tr>\n",
       "  </tbody>\n",
       "</table>\n",
       "</div>"
      ],
      "text/plain": [
       "            count_of_host\n",
       "datetime                 \n",
       "2008-08-15           -1.0\n",
       "2008-08-16            0.0\n",
       "2008-08-17            0.0\n",
       "2008-08-18            0.0\n",
       "2008-08-19            0.0"
      ]
     },
     "execution_count": 43,
     "metadata": {},
     "output_type": "execute_result"
    }
   ],
   "source": [
    "data_diff.head()"
   ]
  },
  {
   "cell_type": "code",
   "execution_count": 44,
   "id": "42042ed2",
   "metadata": {},
   "outputs": [
    {
     "data": {
      "text/plain": [
       "Index(['count_of_host'], dtype='object')"
      ]
     },
     "execution_count": 44,
     "metadata": {},
     "output_type": "execute_result"
    }
   ],
   "source": [
    "data_diff.columns"
   ]
  },
  {
   "cell_type": "code",
   "execution_count": 45,
   "id": "6fada4b2",
   "metadata": {},
   "outputs": [
    {
     "data": {
      "text/plain": [
       "[<matplotlib.lines.Line2D at 0x7fbc88431dc0>]"
      ]
     },
     "execution_count": 45,
     "metadata": {},
     "output_type": "execute_result"
    },
    {
     "data": {
      "image/png": "[encoded data removed]",
      "text/plain": [
       "<Figure size 1500x500 with 1 Axes>"
      ]
     },
     "metadata": {},
     "output_type": "display_data"
    }
   ],
   "source": [
    "# Checking out what the differencing did to the time-series curve\n",
    "# It looks very much stationary\n",
    "\n",
    "plt.figure(figsize=(15,5), dpi=100)\n",
    "plt.plot(data_diff)"
   ]
  },
  {
   "cell_type": "code",
   "execution_count": 46,
   "id": "b69794be",
   "metadata": {},
   "outputs": [
    {
     "name": "stdout",
     "output_type": "stream",
     "text": [
      "Dickey-Fuller Stationarity test:\n",
      "Test Statistic                -1.778896e+01\n",
      "p-value                        3.253356e-30\n",
      "Number of Lags Used            3.200000e+01\n",
      "Number of Observations Used    4.829000e+03\n",
      "Critical Value (1%)           -3.431705e+00\n",
      "Critical Value (5%)           -2.862139e+00\n",
      "Critical Value (10%)          -2.567089e+00\n",
      "dtype: float64\n"
     ]
    }
   ],
   "source": [
    "dickey_fuller(data_diff)"
   ]
  },
  {
   "cell_type": "markdown",
   "id": "3d404186",
   "metadata": {},
   "source": [
    "### COMMENT: \n",
    "\n",
    "> The test statistic (-17.78) is now much smaller than the critical value 5% (-2.86), moreover the p-value is now satisfactory (p<0.05), this mean I can reject the null hypothesis and consider my series stationary."
   ]
  },
  {
   "cell_type": "code",
   "execution_count": 56,
   "id": "ccdda51b",
   "metadata": {},
   "outputs": [
    {
     "data": {
      "image/png": "[encoded data removed]",
      "text/plain": [
       "<Figure size 1296x504 with 1 Axes>"
      ]
     },
     "metadata": {},
     "output_type": "display_data"
    }
   ],
   "source": [
    "# Checking out a plot of autocorrelations\n",
    "\n",
    "from statsmodels.graphics.tsaplots import plot_acf, plot_pacf \n",
    "\n",
    "plot_acf(data_diff)\n",
    "plt.show()"
   ]
  },
  {
   "cell_type": "markdown",
   "id": "1b5962e1",
   "metadata": {},
   "source": [
    "### COMMENT: \n",
    "\n",
    "> The auto-correlation plot has greatly improved (there are fewer autocorrelated terms). It is however difficult to count whether it's good enough (lags within confidence interval). The data is stationary but I'm not 100% sure it's stationary enough. I will conduct another round of differencing to stationarize it further and reduce the remaining autocorrelated terms."
   ]
  },
  {
   "cell_type": "markdown",
   "id": "1689f984",
   "metadata": {},
   "source": [
    "# 9. Stationarizing the Data (second round)\n"
   ]
  },
  {
   "cell_type": "code",
   "execution_count": 48,
   "id": "347e225d",
   "metadata": {},
   "outputs": [],
   "source": [
    "data_diff2 = data_diff - data_diff.shift(1) "
   ]
  },
  {
   "cell_type": "code",
   "execution_count": 51,
   "id": "8feadf17",
   "metadata": {},
   "outputs": [],
   "source": [
    "data_diff2.dropna(inplace = True) "
   ]
  },
  {
   "cell_type": "code",
   "execution_count": 53,
   "id": "61f78d80",
   "metadata": {},
   "outputs": [
    {
     "data": {
      "text/plain": [
       "[<matplotlib.lines.Line2D at 0x7fbc484ad9d0>]"
      ]
     },
     "execution_count": 53,
     "metadata": {},
     "output_type": "execute_result"
    },
    {
     "data": {
      "image/png": "[encoded data removed]",
      "text/plain": [
       "<Figure size 1500x500 with 1 Axes>"
      ]
     },
     "metadata": {},
     "output_type": "display_data"
    }
   ],
   "source": [
    "# Checking out what the differencing did to the time-series curve\n",
    "\n",
    "plt.figure(figsize=(15,5), dpi=100)\n",
    "plt.plot(data_diff2)"
   ]
  },
  {
   "cell_type": "code",
   "execution_count": 54,
   "id": "eb5dcd45",
   "metadata": {},
   "outputs": [
    {
     "name": "stdout",
     "output_type": "stream",
     "text": [
      "Dickey-Fuller Stationarity test:\n",
      "Test Statistic                  -27.603297\n",
      "p-value                           0.000000\n",
      "Number of Lags Used              30.000000\n",
      "Number of Observations Used    4830.000000\n",
      "Critical Value (1%)              -3.431705\n",
      "Critical Value (5%)              -2.862139\n",
      "Critical Value (10%)             -2.567089\n",
      "dtype: float64\n"
     ]
    }
   ],
   "source": [
    "# The dickey fuller test presents even more conclusive results\n",
    "\n",
    "dickey_fuller(data_diff2)"
   ]
  },
  {
   "cell_type": "code",
   "execution_count": 55,
   "id": "330ed75e",
   "metadata": {},
   "outputs": [
    {
     "data": {
      "image/png": "[encoded data removed]",
      "text/plain": [
       "<Figure size 1296x504 with 1 Axes>"
      ]
     },
     "metadata": {},
     "output_type": "display_data"
    }
   ],
   "source": [
    "# Checking autocorrelations, the data is definitely stationary now\n",
    "\n",
    "from statsmodels.graphics.tsaplots import plot_acf, plot_pacf \n",
    "\n",
    "plot_acf(data_diff2)\n",
    "plt.show()"
   ]
  }
 ],
 "metadata": {
  "kernelspec": {
   "display_name": "Python 3 (ipykernel)",
   "language": "python",
   "name": "python3"
  },
  "language_info": {
   "codemirror_mode": {
    "name": "ipython",
    "version": 3
   },
   "file_extension": ".py",
   "mimetype": "text/x-python",
   "name": "python",
   "nbconvert_exporter": "python",
   "pygments_lexer": "ipython3",
   "version": "3.9.7"
  }
 },
 "nbformat": 4,
 "nbformat_minor": 5
}
